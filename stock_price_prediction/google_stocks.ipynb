{
  "nbformat": 4,
  "nbformat_minor": 0,
  "metadata": {
    "kernelspec": {
      "display_name": "Python 3",
      "language": "python",
      "name": "python3"
    },
    "language_info": {
      "codemirror_mode": {
        "name": "ipython",
        "version": 3
      },
      "file_extension": ".py",
      "mimetype": "text/x-python",
      "name": "python",
      "nbconvert_exporter": "python",
      "pygments_lexer": "ipython3",
      "version": "3.8.8"
    },
    "colab": {
      "name": "google_stocks.ipynb",
      "provenance": []
    },
    "accelerator": "GPU"
  },
  "cells": [
    {
      "cell_type": "code",
      "metadata": {
        "id": "zyMSv7rqhdDz"
      },
      "source": [
        "import pandas as pd\n",
        "import numpy as np \n",
        "import matplotlib.pyplot as plt\n",
        "import seaborn as sns\n",
        "import pandas_datareader as pdr\n",
        "\n"
      ],
      "execution_count": null,
      "outputs": []
    },
    {
      "cell_type": "code",
      "metadata": {
        "colab": {
          "base_uri": "https://localhost:8080/",
          "height": 233
        },
        "id": "er9cu9ychdD8",
        "outputId": "37fa6848-8947-42ed-e871-c5e3efbf86c4"
      },
      "source": [
        "df = pdr.get_data_tiingo('GOOGL', api_key='260feaa1e19f50704469374f1cb0031efcc887ab')\n",
        "df.head()"
      ],
      "execution_count": null,
      "outputs": [
        {
          "output_type": "execute_result",
          "data": {
            "text/html": [
              "<div>\n",
              "<style scoped>\n",
              "    .dataframe tbody tr th:only-of-type {\n",
              "        vertical-align: middle;\n",
              "    }\n",
              "\n",
              "    .dataframe tbody tr th {\n",
              "        vertical-align: top;\n",
              "    }\n",
              "\n",
              "    .dataframe thead th {\n",
              "        text-align: right;\n",
              "    }\n",
              "</style>\n",
              "<table border=\"1\" class=\"dataframe\">\n",
              "  <thead>\n",
              "    <tr style=\"text-align: right;\">\n",
              "      <th></th>\n",
              "      <th></th>\n",
              "      <th>close</th>\n",
              "      <th>high</th>\n",
              "      <th>low</th>\n",
              "      <th>open</th>\n",
              "      <th>volume</th>\n",
              "      <th>adjClose</th>\n",
              "      <th>adjHigh</th>\n",
              "      <th>adjLow</th>\n",
              "      <th>adjOpen</th>\n",
              "      <th>adjVolume</th>\n",
              "      <th>divCash</th>\n",
              "      <th>splitFactor</th>\n",
              "    </tr>\n",
              "    <tr>\n",
              "      <th>symbol</th>\n",
              "      <th>date</th>\n",
              "      <th></th>\n",
              "      <th></th>\n",
              "      <th></th>\n",
              "      <th></th>\n",
              "      <th></th>\n",
              "      <th></th>\n",
              "      <th></th>\n",
              "      <th></th>\n",
              "      <th></th>\n",
              "      <th></th>\n",
              "      <th></th>\n",
              "      <th></th>\n",
              "    </tr>\n",
              "  </thead>\n",
              "  <tbody>\n",
              "    <tr>\n",
              "      <th rowspan=\"5\" valign=\"top\">GOOGL</th>\n",
              "      <th>2016-04-11 00:00:00+00:00</th>\n",
              "      <td>757.54</td>\n",
              "      <td>767.22</td>\n",
              "      <td>757.3400</td>\n",
              "      <td>765.45</td>\n",
              "      <td>1588692</td>\n",
              "      <td>757.54</td>\n",
              "      <td>767.22</td>\n",
              "      <td>757.3400</td>\n",
              "      <td>765.45</td>\n",
              "      <td>1588692</td>\n",
              "      <td>0.0</td>\n",
              "      <td>1.0</td>\n",
              "    </tr>\n",
              "    <tr>\n",
              "      <th>2016-04-12 00:00:00+00:00</th>\n",
              "      <td>764.32</td>\n",
              "      <td>764.92</td>\n",
              "      <td>751.5650</td>\n",
              "      <td>758.43</td>\n",
              "      <td>1369358</td>\n",
              "      <td>764.32</td>\n",
              "      <td>764.92</td>\n",
              "      <td>751.5650</td>\n",
              "      <td>758.43</td>\n",
              "      <td>1369358</td>\n",
              "      <td>0.0</td>\n",
              "      <td>1.0</td>\n",
              "    </tr>\n",
              "    <tr>\n",
              "      <th>2016-04-13 00:00:00+00:00</th>\n",
              "      <td>771.91</td>\n",
              "      <td>775.75</td>\n",
              "      <td>764.5908</td>\n",
              "      <td>770.31</td>\n",
              "      <td>1771308</td>\n",
              "      <td>771.91</td>\n",
              "      <td>775.75</td>\n",
              "      <td>764.5908</td>\n",
              "      <td>770.31</td>\n",
              "      <td>1771308</td>\n",
              "      <td>0.0</td>\n",
              "      <td>1.0</td>\n",
              "    </tr>\n",
              "    <tr>\n",
              "      <th>2016-04-14 00:00:00+00:00</th>\n",
              "      <td>775.39</td>\n",
              "      <td>779.61</td>\n",
              "      <td>773.2200</td>\n",
              "      <td>775.36</td>\n",
              "      <td>1349610</td>\n",
              "      <td>775.39</td>\n",
              "      <td>779.61</td>\n",
              "      <td>773.2200</td>\n",
              "      <td>775.36</td>\n",
              "      <td>1349610</td>\n",
              "      <td>0.0</td>\n",
              "      <td>1.0</td>\n",
              "    </tr>\n",
              "    <tr>\n",
              "      <th>2016-04-15 00:00:00+00:00</th>\n",
              "      <td>780.00</td>\n",
              "      <td>780.93</td>\n",
              "      <td>774.9301</td>\n",
              "      <td>775.50</td>\n",
              "      <td>1585584</td>\n",
              "      <td>780.00</td>\n",
              "      <td>780.93</td>\n",
              "      <td>774.9301</td>\n",
              "      <td>775.50</td>\n",
              "      <td>1585584</td>\n",
              "      <td>0.0</td>\n",
              "      <td>1.0</td>\n",
              "    </tr>\n",
              "  </tbody>\n",
              "</table>\n",
              "</div>"
            ],
            "text/plain": [
              "                                   close    high  ...  divCash  splitFactor\n",
              "symbol date                                       ...                      \n",
              "GOOGL  2016-04-11 00:00:00+00:00  757.54  767.22  ...      0.0          1.0\n",
              "       2016-04-12 00:00:00+00:00  764.32  764.92  ...      0.0          1.0\n",
              "       2016-04-13 00:00:00+00:00  771.91  775.75  ...      0.0          1.0\n",
              "       2016-04-14 00:00:00+00:00  775.39  779.61  ...      0.0          1.0\n",
              "       2016-04-15 00:00:00+00:00  780.00  780.93  ...      0.0          1.0\n",
              "\n",
              "[5 rows x 12 columns]"
            ]
          },
          "metadata": {
            "tags": []
          },
          "execution_count": 2
        }
      ]
    },
    {
      "cell_type": "code",
      "metadata": {
        "scrolled": true,
        "colab": {
          "base_uri": "https://localhost:8080/",
          "height": 233
        },
        "id": "WjTs9eiUhdEA",
        "outputId": "3133da26-4994-4313-c518-51322d95bd7f"
      },
      "source": [
        "df.tail()"
      ],
      "execution_count": null,
      "outputs": [
        {
          "output_type": "execute_result",
          "data": {
            "text/html": [
              "<div>\n",
              "<style scoped>\n",
              "    .dataframe tbody tr th:only-of-type {\n",
              "        vertical-align: middle;\n",
              "    }\n",
              "\n",
              "    .dataframe tbody tr th {\n",
              "        vertical-align: top;\n",
              "    }\n",
              "\n",
              "    .dataframe thead th {\n",
              "        text-align: right;\n",
              "    }\n",
              "</style>\n",
              "<table border=\"1\" class=\"dataframe\">\n",
              "  <thead>\n",
              "    <tr style=\"text-align: right;\">\n",
              "      <th></th>\n",
              "      <th></th>\n",
              "      <th>close</th>\n",
              "      <th>high</th>\n",
              "      <th>low</th>\n",
              "      <th>open</th>\n",
              "      <th>volume</th>\n",
              "      <th>adjClose</th>\n",
              "      <th>adjHigh</th>\n",
              "      <th>adjLow</th>\n",
              "      <th>adjOpen</th>\n",
              "      <th>adjVolume</th>\n",
              "      <th>divCash</th>\n",
              "      <th>splitFactor</th>\n",
              "    </tr>\n",
              "    <tr>\n",
              "      <th>symbol</th>\n",
              "      <th>date</th>\n",
              "      <th></th>\n",
              "      <th></th>\n",
              "      <th></th>\n",
              "      <th></th>\n",
              "      <th></th>\n",
              "      <th></th>\n",
              "      <th></th>\n",
              "      <th></th>\n",
              "      <th></th>\n",
              "      <th></th>\n",
              "      <th></th>\n",
              "      <th></th>\n",
              "    </tr>\n",
              "  </thead>\n",
              "  <tbody>\n",
              "    <tr>\n",
              "      <th rowspan=\"5\" valign=\"top\">GOOGL</th>\n",
              "      <th>2021-04-05 00:00:00+00:00</th>\n",
              "      <td>2218.96</td>\n",
              "      <td>2228.9900</td>\n",
              "      <td>2145.205</td>\n",
              "      <td>2147.15</td>\n",
              "      <td>2425480</td>\n",
              "      <td>2218.96</td>\n",
              "      <td>2228.9900</td>\n",
              "      <td>2145.205</td>\n",
              "      <td>2147.15</td>\n",
              "      <td>2425480</td>\n",
              "      <td>0.0</td>\n",
              "      <td>1.0</td>\n",
              "    </tr>\n",
              "    <tr>\n",
              "      <th>2021-04-06 00:00:00+00:00</th>\n",
              "      <td>2209.26</td>\n",
              "      <td>2228.0000</td>\n",
              "      <td>2201.790</td>\n",
              "      <td>2210.92</td>\n",
              "      <td>1762039</td>\n",
              "      <td>2209.26</td>\n",
              "      <td>2228.0000</td>\n",
              "      <td>2201.790</td>\n",
              "      <td>2210.92</td>\n",
              "      <td>1762039</td>\n",
              "      <td>0.0</td>\n",
              "      <td>1.0</td>\n",
              "    </tr>\n",
              "    <tr>\n",
              "      <th>2021-04-07 00:00:00+00:00</th>\n",
              "      <td>2239.03</td>\n",
              "      <td>2244.5000</td>\n",
              "      <td>2213.100</td>\n",
              "      <td>2213.10</td>\n",
              "      <td>1206696</td>\n",
              "      <td>2239.03</td>\n",
              "      <td>2244.5000</td>\n",
              "      <td>2213.100</td>\n",
              "      <td>2213.10</td>\n",
              "      <td>1206696</td>\n",
              "      <td>0.0</td>\n",
              "      <td>1.0</td>\n",
              "    </tr>\n",
              "    <tr>\n",
              "      <th>2021-04-08 00:00:00+00:00</th>\n",
              "      <td>2250.43</td>\n",
              "      <td>2271.7899</td>\n",
              "      <td>2243.010</td>\n",
              "      <td>2264.00</td>\n",
              "      <td>1433214</td>\n",
              "      <td>2250.43</td>\n",
              "      <td>2271.7899</td>\n",
              "      <td>2243.010</td>\n",
              "      <td>2264.00</td>\n",
              "      <td>1433214</td>\n",
              "      <td>0.0</td>\n",
              "      <td>1.0</td>\n",
              "    </tr>\n",
              "    <tr>\n",
              "      <th>2021-04-09 00:00:00+00:00</th>\n",
              "      <td>2270.67</td>\n",
              "      <td>2273.9700</td>\n",
              "      <td>2237.255</td>\n",
              "      <td>2245.44</td>\n",
              "      <td>1307265</td>\n",
              "      <td>2270.67</td>\n",
              "      <td>2273.9700</td>\n",
              "      <td>2237.255</td>\n",
              "      <td>2245.44</td>\n",
              "      <td>1307265</td>\n",
              "      <td>0.0</td>\n",
              "      <td>1.0</td>\n",
              "    </tr>\n",
              "  </tbody>\n",
              "</table>\n",
              "</div>"
            ],
            "text/plain": [
              "                                    close       high  ...  divCash  splitFactor\n",
              "symbol date                                           ...                      \n",
              "GOOGL  2021-04-05 00:00:00+00:00  2218.96  2228.9900  ...      0.0          1.0\n",
              "       2021-04-06 00:00:00+00:00  2209.26  2228.0000  ...      0.0          1.0\n",
              "       2021-04-07 00:00:00+00:00  2239.03  2244.5000  ...      0.0          1.0\n",
              "       2021-04-08 00:00:00+00:00  2250.43  2271.7899  ...      0.0          1.0\n",
              "       2021-04-09 00:00:00+00:00  2270.67  2273.9700  ...      0.0          1.0\n",
              "\n",
              "[5 rows x 12 columns]"
            ]
          },
          "metadata": {
            "tags": []
          },
          "execution_count": 3
        }
      ]
    },
    {
      "cell_type": "code",
      "metadata": {
        "colab": {
          "base_uri": "https://localhost:8080/"
        },
        "id": "agaQyTGXhdEB",
        "outputId": "d5046f28-d075-476b-b801-b724582a67f7"
      },
      "source": [
        "df_close=df.reset_index()['close']\n",
        "df_close"
      ],
      "execution_count": null,
      "outputs": [
        {
          "output_type": "execute_result",
          "data": {
            "text/plain": [
              "0        757.54\n",
              "1        764.32\n",
              "2        771.91\n",
              "3        775.39\n",
              "4        780.00\n",
              "         ...   \n",
              "1254    2218.96\n",
              "1255    2209.26\n",
              "1256    2239.03\n",
              "1257    2250.43\n",
              "1258    2270.67\n",
              "Name: close, Length: 1259, dtype: float64"
            ]
          },
          "metadata": {
            "tags": []
          },
          "execution_count": 4
        }
      ]
    },
    {
      "cell_type": "code",
      "metadata": {
        "colab": {
          "base_uri": "https://localhost:8080/",
          "height": 283
        },
        "id": "xllGv2QOhdEC",
        "outputId": "7d99e2b6-fb3d-4d61-d20a-d43880f04447"
      },
      "source": [
        "plt.figure(figsize=(10,4))\n",
        "plt.plot(df_close)\n"
      ],
      "execution_count": null,
      "outputs": [
        {
          "output_type": "execute_result",
          "data": {
            "text/plain": [
              "[<matplotlib.lines.Line2D at 0x7fdf2e02b150>]"
            ]
          },
          "metadata": {
            "tags": []
          },
          "execution_count": 5
        },
        {
          "output_type": "display_data",
          "data": {
            "image/png": "[encoded data removed]",
            "text/plain": [
              "<Figure size 720x288 with 1 Axes>"
            ]
          },
          "metadata": {
            "tags": [],
            "needs_background": "light"
          }
        }
      ]
    },
    {
      "cell_type": "code",
      "metadata": {
        "id": "lEUtMuZfhdED"
      },
      "source": [
        "from sklearn.preprocessing import MinMaxScaler\n",
        "scaler=MinMaxScaler(feature_range=(0,1))\n",
        "df_close=scaler.fit_transform(np.array(df_close).reshape(-1,1))"
      ],
      "execution_count": null,
      "outputs": []
    },
    {
      "cell_type": "code",
      "metadata": {
        "colab": {
          "base_uri": "https://localhost:8080/"
        },
        "id": "7Qj4ldbXhdEE",
        "outputId": "60d5ddec-d25b-41e8-ff44-d892f3f88c1a"
      },
      "source": [
        "df_close"
      ],
      "execution_count": null,
      "outputs": [
        {
          "output_type": "execute_result",
          "data": {
            "text/plain": [
              "array([[0.04806452],\n",
              "       [0.05232993],\n",
              "       [0.05710493],\n",
              "       ...,\n",
              "       [0.98009474],\n",
              "       [0.98726668],\n",
              "       [1.        ]])"
            ]
          },
          "metadata": {
            "tags": []
          },
          "execution_count": 7
        }
      ]
    },
    {
      "cell_type": "code",
      "metadata": {
        "id": "K__qZow_hdEF"
      },
      "source": [
        "##splitting dataset into train and test split\n",
        "training_size=int(len(df_close)*0.65)\n",
        "test_size=len(df_close)-training_size\n",
        "train_data,test_data=df_close[0:training_size,:],df_close[training_size:len(df_close),:1]\n",
        "\n"
      ],
      "execution_count": null,
      "outputs": []
    },
    {
      "cell_type": "code",
      "metadata": {
        "id": "YtrAq-W7hdEG"
      },
      "source": [
        "# convert an array of values into a dataset matrix\n",
        "def create_dataset(dataset, time_step=1):\n",
        "\tdataX, dataY = [], []\n",
        "\tfor i in range(len(dataset)-time_step-1):\n",
        "\t\ta = dataset[i:(i+time_step), 0]   ###i=0, 0,1,2,3-----99   100 \n",
        "\t\tdataX.append(a)\n",
        "\t\tdataY.append(dataset[i + time_step, 0])\n",
        "\treturn numpy.array(dataX), numpy.array(dataY)"
      ],
      "execution_count": null,
      "outputs": []
    },
    {
      "cell_type": "code",
      "metadata": {
        "id": "PPOBL-u5hdEH"
      },
      "source": [
        "import numpy\n",
        "# reshape into X=t,t+1,t+2,t+3 and Y=t+4\n",
        "time_step = 100\n",
        "X_train, y_train = create_dataset(train_data, time_step)\n",
        "X_test, ytest = create_dataset(test_data, time_step)"
      ],
      "execution_count": null,
      "outputs": []
    },
    {
      "cell_type": "code",
      "metadata": {
        "colab": {
          "base_uri": "https://localhost:8080/"
        },
        "id": "v2Pn1C2ahdEI",
        "outputId": "b06da3bb-845e-4f88-9222-9f3b95b25d80"
      },
      "source": [
        "\n",
        "print(X_train.shape), print(y_train.shape)"
      ],
      "execution_count": null,
      "outputs": [
        {
          "output_type": "stream",
          "text": [
            "(717, 100)\n",
            "(717,)\n"
          ],
          "name": "stdout"
        },
        {
          "output_type": "execute_result",
          "data": {
            "text/plain": [
              "(None, None)"
            ]
          },
          "metadata": {
            "tags": []
          },
          "execution_count": 11
        }
      ]
    },
    {
      "cell_type": "code",
      "metadata": {
        "colab": {
          "base_uri": "https://localhost:8080/"
        },
        "id": "ICFGyRmXhdEI",
        "outputId": "7b5f8e4d-dae1-4e30-edab-a5090ce539b5"
      },
      "source": [
        "\n",
        "print(X_test.shape), print(ytest.shape)"
      ],
      "execution_count": null,
      "outputs": [
        {
          "output_type": "stream",
          "text": [
            "(340, 100)\n",
            "(340,)\n"
          ],
          "name": "stdout"
        },
        {
          "output_type": "execute_result",
          "data": {
            "text/plain": [
              "(None, None)"
            ]
          },
          "metadata": {
            "tags": []
          },
          "execution_count": 12
        }
      ]
    },
    {
      "cell_type": "code",
      "metadata": {
        "id": "KiBx9QdxhdEJ"
      },
      "source": [
        "# reshape input to be [samples, time steps, features] which is required for LSTM\n",
        "X_train =X_train.reshape(X_train.shape[0],X_train.shape[1] , 1)\n",
        "X_test = X_test.reshape(X_test.shape[0],X_test.shape[1] , 1)"
      ],
      "execution_count": null,
      "outputs": []
    },
    {
      "cell_type": "code",
      "metadata": {
        "id": "xohWsZ21hdEK"
      },
      "source": [
        "### Create the Stacked LSTM model\n",
        "from tensorflow.keras.models import Sequential\n",
        "from tensorflow.keras.layers import Dense\n",
        "from tensorflow.keras.layers import LSTM"
      ],
      "execution_count": null,
      "outputs": []
    },
    {
      "cell_type": "code",
      "metadata": {
        "id": "93mrRNWUhdEL"
      },
      "source": [
        "model=Sequential()\n",
        "model.add(LSTM(50,return_sequences=True,input_shape=(100,1)))\n",
        "model.add(LSTM(50,return_sequences=True))\n",
        "model.add(LSTM(50))\n",
        "model.add(Dense(1))\n",
        "model.compile(loss='mean_squared_error',optimizer='adam')"
      ],
      "execution_count": null,
      "outputs": []
    },
    {
      "cell_type": "code",
      "metadata": {
        "colab": {
          "base_uri": "https://localhost:8080/"
        },
        "id": "jf-QrgK4hdEL",
        "outputId": "9db592ef-8ebf-44e4-aa9b-da1c4945e69a"
      },
      "source": [
        "model.summary()"
      ],
      "execution_count": null,
      "outputs": [
        {
          "output_type": "stream",
          "text": [
            "Model: \"sequential\"\n",
            "_________________________________________________________________\n",
            "Layer (type)                 Output Shape              Param #   \n",
            "=================================================================\n",
            "lstm (LSTM)                  (None, 100, 50)           10400     \n",
            "_________________________________________________________________\n",
            "lstm_1 (LSTM)                (None, 100, 50)           20200     \n",
            "_________________________________________________________________\n",
            "lstm_2 (LSTM)                (None, 50)                20200     \n",
            "_________________________________________________________________\n",
            "dense (Dense)                (None, 1)                 51        \n",
            "=================================================================\n",
            "Total params: 50,851\n",
            "Trainable params: 50,851\n",
            "Non-trainable params: 0\n",
            "_________________________________________________________________\n"
          ],
          "name": "stdout"
        }
      ]
    },
    {
      "cell_type": "code",
      "metadata": {
        "colab": {
          "base_uri": "https://localhost:8080/"
        },
        "id": "Xg_FtsuzhdEN",
        "outputId": "57a5853c-7ee2-4893-e3fc-786380ec6532"
      },
      "source": [
        "model.fit(X_train,y_train,validation_data=(X_test,ytest),epochs=150,batch_size=64,verbose=1)"
      ],
      "execution_count": null,
      "outputs": [
        {
          "output_type": "stream",
          "text": [
            "Epoch 1/150\n",
            "12/12 [==============================] - 36s 125ms/step - loss: 0.0229 - val_loss: 0.0573\n",
            "Epoch 2/150\n",
            "12/12 [==============================] - 0s 23ms/step - loss: 0.0034 - val_loss: 0.0106\n",
            "Epoch 3/150\n",
            "12/12 [==============================] - 0s 18ms/step - loss: 0.0017 - val_loss: 0.0200\n",
            "Epoch 4/150\n",
            "12/12 [==============================] - 0s 19ms/step - loss: 8.5007e-04 - val_loss: 0.0109\n",
            "Epoch 5/150\n",
            "12/12 [==============================] - 0s 19ms/step - loss: 6.9343e-04 - val_loss: 0.0050\n",
            "Epoch 6/150\n",
            "12/12 [==============================] - 0s 19ms/step - loss: 5.7081e-04 - val_loss: 0.0049\n",
            "Epoch 7/150\n",
            "12/12 [==============================] - 0s 21ms/step - loss: 5.9669e-04 - val_loss: 0.0061\n",
            "Epoch 8/150\n",
            "12/12 [==============================] - 0s 22ms/step - loss: 5.4529e-04 - val_loss: 0.0066\n",
            "Epoch 9/150\n",
            "12/12 [==============================] - 0s 22ms/step - loss: 5.4865e-04 - val_loss: 0.0059\n",
            "Epoch 10/150\n",
            "12/12 [==============================] - 0s 21ms/step - loss: 5.6044e-04 - val_loss: 0.0052\n",
            "Epoch 11/150\n",
            "12/12 [==============================] - 0s 17ms/step - loss: 5.9213e-04 - val_loss: 0.0056\n",
            "Epoch 12/150\n",
            "12/12 [==============================] - 0s 18ms/step - loss: 5.3974e-04 - val_loss: 0.0065\n",
            "Epoch 13/150\n",
            "12/12 [==============================] - 0s 18ms/step - loss: 5.3294e-04 - val_loss: 0.0077\n",
            "Epoch 14/150\n",
            "12/12 [==============================] - 0s 18ms/step - loss: 5.3934e-04 - val_loss: 0.0089\n",
            "Epoch 15/150\n",
            "12/12 [==============================] - 0s 18ms/step - loss: 5.6045e-04 - val_loss: 0.0090\n",
            "Epoch 16/150\n",
            "12/12 [==============================] - 0s 19ms/step - loss: 5.5579e-04 - val_loss: 0.0075\n",
            "Epoch 17/150\n",
            "12/12 [==============================] - 0s 17ms/step - loss: 4.8749e-04 - val_loss: 0.0072\n",
            "Epoch 18/150\n",
            "12/12 [==============================] - 0s 18ms/step - loss: 4.4090e-04 - val_loss: 0.0076\n",
            "Epoch 19/150\n",
            "12/12 [==============================] - 0s 18ms/step - loss: 4.9470e-04 - val_loss: 0.0110\n",
            "Epoch 20/150\n",
            "12/12 [==============================] - 0s 20ms/step - loss: 5.1843e-04 - val_loss: 0.0102\n",
            "Epoch 21/150\n",
            "12/12 [==============================] - 0s 21ms/step - loss: 4.9457e-04 - val_loss: 0.0061\n",
            "Epoch 22/150\n",
            "12/12 [==============================] - 0s 22ms/step - loss: 4.7993e-04 - val_loss: 0.0080\n",
            "Epoch 23/150\n",
            "12/12 [==============================] - 0s 18ms/step - loss: 4.6236e-04 - val_loss: 0.0084\n",
            "Epoch 24/150\n",
            "12/12 [==============================] - 0s 18ms/step - loss: 4.5046e-04 - val_loss: 0.0113\n",
            "Epoch 25/150\n",
            "12/12 [==============================] - 0s 17ms/step - loss: 5.0344e-04 - val_loss: 0.0080\n",
            "Epoch 26/150\n",
            "12/12 [==============================] - 0s 17ms/step - loss: 4.5626e-04 - val_loss: 0.0071\n",
            "Epoch 27/150\n",
            "12/12 [==============================] - 0s 17ms/step - loss: 5.0439e-04 - val_loss: 0.0115\n",
            "Epoch 28/150\n",
            "12/12 [==============================] - 0s 18ms/step - loss: 4.4422e-04 - val_loss: 0.0079\n",
            "Epoch 29/150\n",
            "12/12 [==============================] - 0s 17ms/step - loss: 4.7402e-04 - val_loss: 0.0109\n",
            "Epoch 30/150\n",
            "12/12 [==============================] - 0s 20ms/step - loss: 4.4282e-04 - val_loss: 0.0081\n",
            "Epoch 31/150\n",
            "12/12 [==============================] - 0s 21ms/step - loss: 4.1448e-04 - val_loss: 0.0081\n",
            "Epoch 32/150\n",
            "12/12 [==============================] - 0s 21ms/step - loss: 4.5032e-04 - val_loss: 0.0087\n",
            "Epoch 33/150\n",
            "12/12 [==============================] - 0s 18ms/step - loss: 4.2928e-04 - val_loss: 0.0126\n",
            "Epoch 34/150\n",
            "12/12 [==============================] - 0s 17ms/step - loss: 3.8238e-04 - val_loss: 0.0089\n",
            "Epoch 35/150\n",
            "12/12 [==============================] - 0s 18ms/step - loss: 4.5947e-04 - val_loss: 0.0109\n",
            "Epoch 36/150\n",
            "12/12 [==============================] - 0s 18ms/step - loss: 3.8088e-04 - val_loss: 0.0118\n",
            "Epoch 37/150\n",
            "12/12 [==============================] - 0s 29ms/step - loss: 4.1900e-04 - val_loss: 0.0087\n",
            "Epoch 38/150\n",
            "12/12 [==============================] - 0s 20ms/step - loss: 4.3032e-04 - val_loss: 0.0114\n",
            "Epoch 39/150\n",
            "12/12 [==============================] - 0s 17ms/step - loss: 3.9230e-04 - val_loss: 0.0104\n",
            "Epoch 40/150\n",
            "12/12 [==============================] - 0s 19ms/step - loss: 3.7130e-04 - val_loss: 0.0087\n",
            "Epoch 41/150\n",
            "12/12 [==============================] - 0s 20ms/step - loss: 4.2590e-04 - val_loss: 0.0135\n",
            "Epoch 42/150\n",
            "12/12 [==============================] - 0s 17ms/step - loss: 4.6412e-04 - val_loss: 0.0088\n",
            "Epoch 43/150\n",
            "12/12 [==============================] - 0s 17ms/step - loss: 4.1014e-04 - val_loss: 0.0117\n",
            "Epoch 44/150\n",
            "12/12 [==============================] - 0s 17ms/step - loss: 4.2935e-04 - val_loss: 0.0100\n",
            "Epoch 45/150\n",
            "12/12 [==============================] - 0s 17ms/step - loss: 4.0466e-04 - val_loss: 0.0125\n",
            "Epoch 46/150\n",
            "12/12 [==============================] - 0s 18ms/step - loss: 3.8724e-04 - val_loss: 0.0072\n",
            "Epoch 47/150\n",
            "12/12 [==============================] - 0s 17ms/step - loss: 4.5701e-04 - val_loss: 0.0123\n",
            "Epoch 48/150\n",
            "12/12 [==============================] - 0s 18ms/step - loss: 4.5779e-04 - val_loss: 0.0113\n",
            "Epoch 49/150\n",
            "12/12 [==============================] - 0s 17ms/step - loss: 4.1707e-04 - val_loss: 0.0092\n",
            "Epoch 50/150\n",
            "12/12 [==============================] - 0s 18ms/step - loss: 3.4874e-04 - val_loss: 0.0130\n",
            "Epoch 51/150\n",
            "12/12 [==============================] - 0s 17ms/step - loss: 3.9508e-04 - val_loss: 0.0109\n",
            "Epoch 52/150\n",
            "12/12 [==============================] - 0s 17ms/step - loss: 3.8434e-04 - val_loss: 0.0097\n",
            "Epoch 53/150\n",
            "12/12 [==============================] - 0s 17ms/step - loss: 3.9391e-04 - val_loss: 0.0083\n",
            "Epoch 54/150\n",
            "12/12 [==============================] - 0s 17ms/step - loss: 3.8942e-04 - val_loss: 0.0091\n",
            "Epoch 55/150\n",
            "12/12 [==============================] - 0s 18ms/step - loss: 3.4597e-04 - val_loss: 0.0114\n",
            "Epoch 56/150\n",
            "12/12 [==============================] - 0s 17ms/step - loss: 3.8988e-04 - val_loss: 0.0077\n",
            "Epoch 57/150\n",
            "12/12 [==============================] - 0s 17ms/step - loss: 4.0661e-04 - val_loss: 0.0096\n",
            "Epoch 58/150\n",
            "12/12 [==============================] - 0s 17ms/step - loss: 3.5582e-04 - val_loss: 0.0093\n",
            "Epoch 59/150\n",
            "12/12 [==============================] - 0s 18ms/step - loss: 3.6276e-04 - val_loss: 0.0092\n",
            "Epoch 60/150\n",
            "12/12 [==============================] - 0s 17ms/step - loss: 3.4530e-04 - val_loss: 0.0093\n",
            "Epoch 61/150\n",
            "12/12 [==============================] - 0s 18ms/step - loss: 3.6953e-04 - val_loss: 0.0098\n",
            "Epoch 62/150\n",
            "12/12 [==============================] - 0s 17ms/step - loss: 3.3717e-04 - val_loss: 0.0128\n",
            "Epoch 63/150\n",
            "12/12 [==============================] - 0s 18ms/step - loss: 4.0194e-04 - val_loss: 0.0074\n",
            "Epoch 64/150\n",
            "12/12 [==============================] - 0s 18ms/step - loss: 3.3918e-04 - val_loss: 0.0101\n",
            "Epoch 65/150\n",
            "12/12 [==============================] - 0s 18ms/step - loss: 3.2650e-04 - val_loss: 0.0091\n",
            "Epoch 66/150\n",
            "12/12 [==============================] - 0s 17ms/step - loss: 3.1315e-04 - val_loss: 0.0104\n",
            "Epoch 67/150\n",
            "12/12 [==============================] - 0s 18ms/step - loss: 2.8938e-04 - val_loss: 0.0068\n",
            "Epoch 68/150\n",
            "12/12 [==============================] - 0s 18ms/step - loss: 3.4666e-04 - val_loss: 0.0120\n",
            "Epoch 69/150\n",
            "12/12 [==============================] - 0s 18ms/step - loss: 3.1207e-04 - val_loss: 0.0067\n",
            "Epoch 70/150\n",
            "12/12 [==============================] - 0s 20ms/step - loss: 3.6342e-04 - val_loss: 0.0159\n",
            "Epoch 71/150\n",
            "12/12 [==============================] - 0s 20ms/step - loss: 3.8660e-04 - val_loss: 0.0084\n",
            "Epoch 72/150\n",
            "12/12 [==============================] - 0s 17ms/step - loss: 4.0277e-04 - val_loss: 0.0079\n",
            "Epoch 73/150\n",
            "12/12 [==============================] - 0s 18ms/step - loss: 3.3686e-04 - val_loss: 0.0132\n",
            "Epoch 74/150\n",
            "12/12 [==============================] - 0s 22ms/step - loss: 2.9123e-04 - val_loss: 0.0097\n",
            "Epoch 75/150\n",
            "12/12 [==============================] - 0s 21ms/step - loss: 2.5326e-04 - val_loss: 0.0104\n",
            "Epoch 76/150\n",
            "12/12 [==============================] - 0s 17ms/step - loss: 2.6983e-04 - val_loss: 0.0099\n",
            "Epoch 77/150\n",
            "12/12 [==============================] - 0s 17ms/step - loss: 2.7403e-04 - val_loss: 0.0071\n",
            "Epoch 78/150\n",
            "12/12 [==============================] - 0s 17ms/step - loss: 2.9527e-04 - val_loss: 0.0102\n",
            "Epoch 79/150\n",
            "12/12 [==============================] - 0s 19ms/step - loss: 2.6793e-04 - val_loss: 0.0109\n",
            "Epoch 80/150\n",
            "12/12 [==============================] - 0s 18ms/step - loss: 2.7336e-04 - val_loss: 0.0097\n",
            "Epoch 81/150\n",
            "12/12 [==============================] - 0s 17ms/step - loss: 2.3673e-04 - val_loss: 0.0096\n",
            "Epoch 82/150\n",
            "12/12 [==============================] - 0s 17ms/step - loss: 2.1585e-04 - val_loss: 0.0086\n",
            "Epoch 83/150\n",
            "12/12 [==============================] - 0s 17ms/step - loss: 2.4973e-04 - val_loss: 0.0087\n",
            "Epoch 84/150\n",
            "12/12 [==============================] - 0s 19ms/step - loss: 1.8481e-04 - val_loss: 0.0090\n",
            "Epoch 85/150\n",
            "12/12 [==============================] - 0s 17ms/step - loss: 2.2010e-04 - val_loss: 0.0046\n",
            "Epoch 86/150\n",
            "12/12 [==============================] - 0s 18ms/step - loss: 2.3674e-04 - val_loss: 0.0077\n",
            "Epoch 87/150\n",
            "12/12 [==============================] - 0s 17ms/step - loss: 2.3613e-04 - val_loss: 0.0090\n",
            "Epoch 88/150\n",
            "12/12 [==============================] - 0s 18ms/step - loss: 2.0574e-04 - val_loss: 0.0091\n",
            "Epoch 89/150\n",
            "12/12 [==============================] - 0s 17ms/step - loss: 2.3055e-04 - val_loss: 0.0063\n",
            "Epoch 90/150\n",
            "12/12 [==============================] - 0s 17ms/step - loss: 2.2092e-04 - val_loss: 0.0079\n",
            "Epoch 91/150\n",
            "12/12 [==============================] - 0s 17ms/step - loss: 2.0735e-04 - val_loss: 0.0077\n",
            "Epoch 92/150\n",
            "12/12 [==============================] - 0s 18ms/step - loss: 1.7839e-04 - val_loss: 0.0104\n",
            "Epoch 93/150\n",
            "12/12 [==============================] - 0s 18ms/step - loss: 2.6199e-04 - val_loss: 0.0032\n",
            "Epoch 94/150\n",
            "12/12 [==============================] - 0s 18ms/step - loss: 2.3763e-04 - val_loss: 0.0106\n",
            "Epoch 95/150\n",
            "12/12 [==============================] - 0s 17ms/step - loss: 2.2794e-04 - val_loss: 0.0044\n",
            "Epoch 96/150\n",
            "12/12 [==============================] - 0s 17ms/step - loss: 2.0497e-04 - val_loss: 0.0076\n",
            "Epoch 97/150\n",
            "12/12 [==============================] - 0s 22ms/step - loss: 1.8091e-04 - val_loss: 0.0059\n",
            "Epoch 98/150\n",
            "12/12 [==============================] - 0s 18ms/step - loss: 1.6129e-04 - val_loss: 0.0078\n",
            "Epoch 99/150\n",
            "12/12 [==============================] - 0s 18ms/step - loss: 1.9585e-04 - val_loss: 0.0047\n",
            "Epoch 100/150\n",
            "12/12 [==============================] - 0s 18ms/step - loss: 1.9805e-04 - val_loss: 0.0068\n",
            "Epoch 101/150\n",
            "12/12 [==============================] - 0s 18ms/step - loss: 1.7208e-04 - val_loss: 0.0054\n",
            "Epoch 102/150\n",
            "12/12 [==============================] - 0s 20ms/step - loss: 1.8480e-04 - val_loss: 0.0082\n",
            "Epoch 103/150\n",
            "12/12 [==============================] - 0s 18ms/step - loss: 2.3155e-04 - val_loss: 0.0025\n",
            "Epoch 104/150\n",
            "12/12 [==============================] - 0s 18ms/step - loss: 2.2218e-04 - val_loss: 0.0064\n",
            "Epoch 105/150\n",
            "12/12 [==============================] - 0s 19ms/step - loss: 1.7957e-04 - val_loss: 0.0050\n",
            "Epoch 106/150\n",
            "12/12 [==============================] - 0s 18ms/step - loss: 1.7260e-04 - val_loss: 0.0039\n",
            "Epoch 107/150\n",
            "12/12 [==============================] - 0s 17ms/step - loss: 1.7218e-04 - val_loss: 0.0072\n",
            "Epoch 108/150\n",
            "12/12 [==============================] - 0s 17ms/step - loss: 1.6187e-04 - val_loss: 0.0038\n",
            "Epoch 109/150\n",
            "12/12 [==============================] - 0s 18ms/step - loss: 1.5856e-04 - val_loss: 0.0051\n",
            "Epoch 110/150\n",
            "12/12 [==============================] - 0s 18ms/step - loss: 1.4956e-04 - val_loss: 0.0029\n",
            "Epoch 111/150\n",
            "12/12 [==============================] - 0s 18ms/step - loss: 1.3528e-04 - val_loss: 0.0022\n",
            "Epoch 112/150\n",
            "12/12 [==============================] - 0s 20ms/step - loss: 1.6321e-04 - val_loss: 0.0041\n",
            "Epoch 113/150\n",
            "12/12 [==============================] - 0s 18ms/step - loss: 1.4351e-04 - val_loss: 0.0036\n",
            "Epoch 114/150\n",
            "12/12 [==============================] - 0s 18ms/step - loss: 1.4022e-04 - val_loss: 0.0029\n",
            "Epoch 115/150\n",
            "12/12 [==============================] - 0s 18ms/step - loss: 1.5511e-04 - val_loss: 0.0041\n",
            "Epoch 116/150\n",
            "12/12 [==============================] - 0s 22ms/step - loss: 1.5650e-04 - val_loss: 0.0044\n",
            "Epoch 117/150\n",
            "12/12 [==============================] - 0s 21ms/step - loss: 1.4818e-04 - val_loss: 0.0056\n",
            "Epoch 118/150\n",
            "12/12 [==============================] - 0s 17ms/step - loss: 1.4393e-04 - val_loss: 0.0037\n",
            "Epoch 119/150\n",
            "12/12 [==============================] - 0s 18ms/step - loss: 1.3735e-04 - val_loss: 0.0033\n",
            "Epoch 120/150\n",
            "12/12 [==============================] - 0s 18ms/step - loss: 1.6445e-04 - val_loss: 0.0013\n",
            "Epoch 121/150\n",
            "12/12 [==============================] - 0s 22ms/step - loss: 1.8730e-04 - val_loss: 0.0033\n",
            "Epoch 122/150\n",
            "12/12 [==============================] - 0s 17ms/step - loss: 1.3455e-04 - val_loss: 0.0037\n",
            "Epoch 123/150\n",
            "12/12 [==============================] - 0s 18ms/step - loss: 1.3024e-04 - val_loss: 0.0023\n",
            "Epoch 124/150\n",
            "12/12 [==============================] - 0s 18ms/step - loss: 1.3115e-04 - val_loss: 0.0029\n",
            "Epoch 125/150\n",
            "12/12 [==============================] - 0s 21ms/step - loss: 1.3091e-04 - val_loss: 0.0032\n",
            "Epoch 126/150\n",
            "12/12 [==============================] - 0s 19ms/step - loss: 1.2765e-04 - val_loss: 0.0025\n",
            "Epoch 127/150\n",
            "12/12 [==============================] - 0s 17ms/step - loss: 1.1719e-04 - val_loss: 0.0026\n",
            "Epoch 128/150\n",
            "12/12 [==============================] - 0s 21ms/step - loss: 1.2529e-04 - val_loss: 0.0015\n",
            "Epoch 129/150\n",
            "12/12 [==============================] - 0s 18ms/step - loss: 1.3163e-04 - val_loss: 0.0026\n",
            "Epoch 130/150\n",
            "12/12 [==============================] - 0s 19ms/step - loss: 1.3622e-04 - val_loss: 0.0017\n",
            "Epoch 131/150\n",
            "12/12 [==============================] - 0s 17ms/step - loss: 1.6602e-04 - val_loss: 0.0022\n",
            "Epoch 132/150\n",
            "12/12 [==============================] - 0s 18ms/step - loss: 1.2573e-04 - val_loss: 0.0014\n",
            "Epoch 133/150\n",
            "12/12 [==============================] - 0s 18ms/step - loss: 1.2612e-04 - val_loss: 0.0040\n",
            "Epoch 134/150\n",
            "12/12 [==============================] - 0s 18ms/step - loss: 1.5021e-04 - val_loss: 0.0030\n",
            "Epoch 135/150\n",
            "12/12 [==============================] - 0s 21ms/step - loss: 1.2774e-04 - val_loss: 0.0016\n",
            "Epoch 136/150\n",
            "12/12 [==============================] - 0s 19ms/step - loss: 1.2568e-04 - val_loss: 0.0023\n",
            "Epoch 137/150\n",
            "12/12 [==============================] - 0s 17ms/step - loss: 1.1725e-04 - val_loss: 0.0019\n",
            "Epoch 138/150\n",
            "12/12 [==============================] - 0s 19ms/step - loss: 1.2656e-04 - val_loss: 0.0015\n",
            "Epoch 139/150\n",
            "12/12 [==============================] - 0s 17ms/step - loss: 1.2928e-04 - val_loss: 0.0023\n",
            "Epoch 140/150\n",
            "12/12 [==============================] - 0s 18ms/step - loss: 1.3256e-04 - val_loss: 0.0029\n",
            "Epoch 141/150\n",
            "12/12 [==============================] - 0s 22ms/step - loss: 1.1642e-04 - val_loss: 0.0023\n",
            "Epoch 142/150\n",
            "12/12 [==============================] - 0s 21ms/step - loss: 1.2418e-04 - val_loss: 0.0012\n",
            "Epoch 143/150\n",
            "12/12 [==============================] - 0s 21ms/step - loss: 1.4101e-04 - val_loss: 0.0021\n",
            "Epoch 144/150\n",
            "12/12 [==============================] - 0s 18ms/step - loss: 1.1401e-04 - val_loss: 0.0018\n",
            "Epoch 145/150\n",
            "12/12 [==============================] - 0s 18ms/step - loss: 1.2579e-04 - val_loss: 0.0013\n",
            "Epoch 146/150\n",
            "12/12 [==============================] - 0s 17ms/step - loss: 1.1327e-04 - val_loss: 0.0025\n",
            "Epoch 147/150\n",
            "12/12 [==============================] - 0s 18ms/step - loss: 1.0915e-04 - val_loss: 0.0012\n",
            "Epoch 148/150\n",
            "12/12 [==============================] - 0s 18ms/step - loss: 1.2589e-04 - val_loss: 0.0030\n",
            "Epoch 149/150\n",
            "12/12 [==============================] - 0s 20ms/step - loss: 1.3757e-04 - val_loss: 0.0017\n",
            "Epoch 150/150\n",
            "12/12 [==============================] - 0s 21ms/step - loss: 1.0982e-04 - val_loss: 0.0016\n"
          ],
          "name": "stdout"
        },
        {
          "output_type": "execute_result",
          "data": {
            "text/plain": [
              "<tensorflow.python.keras.callbacks.History at 0x7fdeac266210>"
            ]
          },
          "metadata": {
            "tags": []
          },
          "execution_count": 17
        }
      ]
    },
    {
      "cell_type": "code",
      "metadata": {
        "id": "0dKOyQ_zhdEN"
      },
      "source": [
        "### Lets Do the prediction and check performance metrics\n",
        "train_predict=model.predict(X_train)\n",
        "test_predict=model.predict(X_test)"
      ],
      "execution_count": null,
      "outputs": []
    },
    {
      "cell_type": "code",
      "metadata": {
        "id": "dQpIjmgVhdEO"
      },
      "source": [
        "##Transformback to original form\n",
        "train_predict=scaler.inverse_transform(train_predict)\n",
        "test_predict=scaler.inverse_transform(test_predict)"
      ],
      "execution_count": null,
      "outputs": []
    },
    {
      "cell_type": "code",
      "metadata": {
        "colab": {
          "base_uri": "https://localhost:8080/"
        },
        "id": "4yxxzONNhdEP",
        "outputId": "ef299278-23c3-4cdb-ab3e-7e82a86dc3ce"
      },
      "source": [
        "### Calculate RMSE performance metrics\n",
        "import math\n",
        "from sklearn.metrics import mean_squared_error\n",
        "math.sqrt(mean_squared_error(y_train,train_predict))"
      ],
      "execution_count": null,
      "outputs": [
        {
          "output_type": "execute_result",
          "data": {
            "text/plain": [
              "1034.6333009670088"
            ]
          },
          "metadata": {
            "tags": []
          },
          "execution_count": 20
        }
      ]
    },
    {
      "cell_type": "code",
      "metadata": {
        "colab": {
          "base_uri": "https://localhost:8080/"
        },
        "id": "OvJ9NfI3hdEQ",
        "outputId": "0993b371-1e6e-432d-cc98-3099d6f5bf64"
      },
      "source": [
        "\n",
        "### Test Data RMSE\n",
        "math.sqrt(mean_squared_error(ytest,test_predict))"
      ],
      "execution_count": null,
      "outputs": [
        {
          "output_type": "execute_result",
          "data": {
            "text/plain": [
              "1542.211271729227"
            ]
          },
          "metadata": {
            "tags": []
          },
          "execution_count": 21
        }
      ]
    },
    {
      "cell_type": "code",
      "metadata": {
        "colab": {
          "base_uri": "https://localhost:8080/",
          "height": 320
        },
        "id": "6rnXoGlghdER",
        "outputId": "27592c9a-95e8-4b57-ae02-5ce55e672050"
      },
      "source": [
        "### Plotting \n",
        "# shift train predictions for plotting\n",
        "look_back=100\n",
        "trainPredictPlot = numpy.empty_like(df_close)\n",
        "trainPredictPlot[:, :] = np.nan\n",
        "trainPredictPlot[look_back:len(train_predict)+look_back, :] = train_predict\n",
        "# shift test predictions for plotting\n",
        "testPredictPlot = numpy.empty_like(df_close)\n",
        "testPredictPlot[:, :] = numpy.nan\n",
        "testPredictPlot[len(train_predict)+(look_back*2)+1:len(df_close)-1, :] = test_predict\n",
        "# plot baseline and predictions\n",
        "plt.figure(figsize=(10,5))\n",
        "plt.plot(scaler.inverse_transform(df_close))\n",
        "plt.plot(trainPredictPlot)\n",
        "plt.plot(testPredictPlot)\n",
        "plt.show()"
      ],
      "execution_count": null,
      "outputs": [
        {
          "output_type": "display_data",
          "data": {
            "image/png": "[encoded data removed]",
            "text/plain": [
              "<Figure size 720x360 with 1 Axes>"
            ]
          },
          "metadata": {
            "tags": [],
            "needs_background": "light"
          }
        }
      ]
    },
    {
      "cell_type": "code",
      "metadata": {
        "colab": {
          "base_uri": "https://localhost:8080/",
          "height": 283
        },
        "id": "rgm7rQuAhdES",
        "outputId": "7d5e706a-099a-4358-ae0f-58befc5cf5cf"
      },
      "source": [
        "plt.plot(train_predict)"
      ],
      "execution_count": null,
      "outputs": [
        {
          "output_type": "execute_result",
          "data": {
            "text/plain": [
              "[<matplotlib.lines.Line2D at 0x7fdea43a9ed0>]"
            ]
          },
          "metadata": {
            "tags": []
          },
          "execution_count": 23
        },
        {
          "output_type": "display_data",
          "data": {
            "image/png": "[encoded data removed]",
            "text/plain": [
              "<Figure size 432x288 with 1 Axes>"
            ]
          },
          "metadata": {
            "tags": [],
            "needs_background": "light"
          }
        }
      ]
    },
    {
      "cell_type": "code",
      "metadata": {
        "colab": {
          "base_uri": "https://localhost:8080/",
          "height": 283
        },
        "id": "Iezgh2ZchdES",
        "outputId": "12ea0692-f553-4bb4-a0ad-9783a1adeb8c"
      },
      "source": [
        "plt.plot(test_predict)"
      ],
      "execution_count": null,
      "outputs": [
        {
          "output_type": "execute_result",
          "data": {
            "text/plain": [
              "[<matplotlib.lines.Line2D at 0x7fdea42f7510>]"
            ]
          },
          "metadata": {
            "tags": []
          },
          "execution_count": 24
        },
        {
          "output_type": "display_data",
          "data": {
            "image/png": "[encoded data removed]",
            "text/plain": [
              "<Figure size 432x288 with 1 Axes>"
            ]
          },
          "metadata": {
            "tags": [],
            "needs_background": "light"
          }
        }
      ]
    },
    {
      "cell_type": "code",
      "metadata": {
        "colab": {
          "base_uri": "https://localhost:8080/"
        },
        "id": "FDojl2CVhdET",
        "outputId": "8e142bf4-9c35-4020-cc77-396621d28c41"
      },
      "source": [
        "x_input=test_data[341:].reshape(1,-1)\n",
        "x_input.shape"
      ],
      "execution_count": null,
      "outputs": [
        {
          "output_type": "execute_result",
          "data": {
            "text/plain": [
              "(1, 100)"
            ]
          },
          "metadata": {
            "tags": []
          },
          "execution_count": 25
        }
      ]
    },
    {
      "cell_type": "code",
      "metadata": {
        "id": "sTSAU6DVhdEU"
      },
      "source": [
        "temp_input=list(x_input)\n",
        "temp_input=temp_input[0].tolist()"
      ],
      "execution_count": null,
      "outputs": []
    },
    {
      "cell_type": "code",
      "metadata": {
        "colab": {
          "base_uri": "https://localhost:8080/"
        },
        "id": "qo5THfVhhdEU",
        "outputId": "aa6e1876-ef25-41f5-d884-e81a1eeda979"
      },
      "source": [
        "temp_input"
      ],
      "execution_count": null,
      "outputs": [
        {
          "output_type": "execute_result",
          "data": {
            "text/plain": [
              "[0.6864419042106786,\n",
              " 0.6875554409164972,\n",
              " 0.6797732663114253,\n",
              " 0.6665492315338497,\n",
              " 0.6778292954521148,\n",
              " 0.6638691940384893,\n",
              " 0.6583203840128842,\n",
              " 0.68118248790523,\n",
              " 0.681327184765308,\n",
              " 0.6957276679269973,\n",
              " 0.6752058784672199,\n",
              " 0.700974501896787,\n",
              " 0.7196026498398898,\n",
              " 0.7176335143092611,\n",
              " 0.7188414185325223,\n",
              " 0.7146074625832792,\n",
              " 0.7110214969204733,\n",
              " 0.6899649581951897,\n",
              " 0.6835416758412864,\n",
              " 0.6880398608393676,\n",
              " 0.6738595685517101,\n",
              " 0.6794083785773153,\n",
              " 0.6769611142916461,\n",
              " 0.6664674463520663,\n",
              " 0.6574773675237335,\n",
              " 0.6627242014935233,\n",
              " 0.6537026668260428,\n",
              " 0.6587418922574597,\n",
              " 0.6624725547803438,\n",
              " 0.6875114027416909,\n",
              " 0.6773197108579265,\n",
              " 0.663787408856706,\n",
              " 0.6740986329292307,\n",
              " 0.657420747013268,\n",
              " 0.6661780526319101,\n",
              " 0.6553761174686858,\n",
              " 0.6877504671192112,\n",
              " 0.7025284203506696,\n",
              " 0.6763949091869923,\n",
              " 0.6645297666605852,\n",
              " 0.6707076934691387,\n",
              " 0.660434216403591,\n",
              " 0.6583581310198612,\n",
              " 0.6941234201304789,\n",
              " 0.7542669845803476,\n",
              " 0.7568337810547772,\n",
              " 0.7621246531993733,\n",
              " 0.7632067340660447,\n",
              " 0.7718067604889496,\n",
              " 0.7158090756387108,\n",
              " 0.7373626166225236,\n",
              " 0.7211062389511365,\n",
              " 0.762445502758677,\n",
              " 0.7788339949544834,\n",
              " 0.8667593565393543,\n",
              " 0.8634564934288753,\n",
              " 0.8856014041886595,\n",
              " 0.8828899108541517,\n",
              " 0.8771460746258326,\n",
              " 0.8841229797487307,\n",
              " 0.8855510748460236,\n",
              " 0.8895019282429397,\n",
              " 0.8993601882317412,\n",
              " 0.9043427931526928,\n",
              " 0.8962838071631236,\n",
              " 0.8855888218530006,\n",
              " 0.8638528370021328,\n",
              " 0.8675394613502103,\n",
              " 0.8824432379382583,\n",
              " 0.8397513730473787,\n",
              " 0.8435009090737513,\n",
              " 0.8735412354595382,\n",
              " 0.8702824105238656,\n",
              " 0.8368951828527931,\n",
              " 0.8510628928047914,\n",
              " 0.8907853264801546,\n",
              " 0.8344353362314647,\n",
              " 0.8551081137191496,\n",
              " 0.8524846967342548,\n",
              " 0.8929683617169855,\n",
              " 0.8611727995067724,\n",
              " 0.8639660780230634,\n",
              " 0.8824935672808942,\n",
              " 0.8814429422533703,\n",
              " 0.8431423125074706,\n",
              " 0.8466779488276408,\n",
              " 0.8490245544280384,\n",
              " 0.8557183569986095,\n",
              " 0.8501821293086635,\n",
              " 0.8501380911338572,\n",
              " 0.845275018401666,\n",
              " 0.8585242178505594,\n",
              " 0.8589520172629646,\n",
              " 0.8690493416292866,\n",
              " 0.9113637364503975,\n",
              " 0.9674683711537373,\n",
              " 0.9613659383591378,\n",
              " 0.9800947449875121,\n",
              " 0.9872666763131239,\n",
              " 1.0]"
            ]
          },
          "metadata": {
            "tags": []
          },
          "execution_count": 27
        }
      ]
    },
    {
      "cell_type": "code",
      "metadata": {
        "colab": {
          "base_uri": "https://localhost:8080/"
        },
        "id": "pxaVG3z9hdEV",
        "outputId": "210b172e-64db-4123-e184-2d9d5d9b5f45"
      },
      "source": [
        "# demonstrate prediction for next 10 days\n",
        "from numpy import array\n",
        "\n",
        "lst_output=[]\n",
        "n_steps=100\n",
        "i=0\n",
        "while(i<30):\n",
        "    \n",
        "    if(len(temp_input)>100):\n",
        "        #print(temp_input)\n",
        "        x_input=np.array(temp_input[1:])\n",
        "        print(\"{} day input {}\".format(i,x_input))\n",
        "        x_input=x_input.reshape(1,-1)\n",
        "        x_input = x_input.reshape((1, n_steps, 1))\n",
        "        #print(x_input)\n",
        "        yhat = model.predict(x_input, verbose=0)\n",
        "        print(\"{} day output {}\".format(i,yhat))\n",
        "        temp_input.extend(yhat[0].tolist())\n",
        "        temp_input=temp_input[1:]\n",
        "        #print(temp_input)\n",
        "        lst_output.extend(yhat.tolist())\n",
        "        i=i+1\n",
        "    else:\n",
        "        x_input = x_input.reshape((1, n_steps,1))\n",
        "        yhat = model.predict(x_input, verbose=0)\n",
        "        print(yhat[0])\n",
        "        temp_input.extend(yhat[0].tolist())\n",
        "        print(len(temp_input))\n",
        "        lst_output.extend(yhat.tolist())\n",
        "        i=i+1\n",
        "    \n",
        "\n",
        "print(lst_output)"
      ],
      "execution_count": null,
      "outputs": [
        {
          "output_type": "stream",
          "text": [
            "[0.9208241]\n",
            "101\n",
            "1 day input [0.68755544 0.67977327 0.66654923 0.6778293  0.66386919 0.65832038\n",
            " 0.68118249 0.68132718 0.69572767 0.67520588 0.7009745  0.71960265\n",
            " 0.71763351 0.71884142 0.71460746 0.7110215  0.68996496 0.68354168\n",
            " 0.68803986 0.67385957 0.67940838 0.67696111 0.66646745 0.65747737\n",
            " 0.6627242  0.65370267 0.65874189 0.66247255 0.6875114  0.67731971\n",
            " 0.66378741 0.67409863 0.65742075 0.66617805 0.65537612 0.68775047\n",
            " 0.70252842 0.67639491 0.66452977 0.67070769 0.66043422 0.65835813\n",
            " 0.69412342 0.75426698 0.75683378 0.76212465 0.76320673 0.77180676\n",
            " 0.71580908 0.73736262 0.72110624 0.7624455  0.77883399 0.86675936\n",
            " 0.86345649 0.8856014  0.88288991 0.87714607 0.88412298 0.88555107\n",
            " 0.88950193 0.89936019 0.90434279 0.89628381 0.88558882 0.86385284\n",
            " 0.86753946 0.88244324 0.83975137 0.84350091 0.87354124 0.87028241\n",
            " 0.83689518 0.85106289 0.89078533 0.83443534 0.85510811 0.8524847\n",
            " 0.89296836 0.8611728  0.86396608 0.88249357 0.88144294 0.84314231\n",
            " 0.84667795 0.84902455 0.85571836 0.85018213 0.85013809 0.84527502\n",
            " 0.85852422 0.85895202 0.86904934 0.91136374 0.96746837 0.96136594\n",
            " 0.98009474 0.98726668 1.         0.92082411]\n",
            "1 day output [[0.824416]]\n",
            "2 day input [0.67977327 0.66654923 0.6778293  0.66386919 0.65832038 0.68118249\n",
            " 0.68132718 0.69572767 0.67520588 0.7009745  0.71960265 0.71763351\n",
            " 0.71884142 0.71460746 0.7110215  0.68996496 0.68354168 0.68803986\n",
            " 0.67385957 0.67940838 0.67696111 0.66646745 0.65747737 0.6627242\n",
            " 0.65370267 0.65874189 0.66247255 0.6875114  0.67731971 0.66378741\n",
            " 0.67409863 0.65742075 0.66617805 0.65537612 0.68775047 0.70252842\n",
            " 0.67639491 0.66452977 0.67070769 0.66043422 0.65835813 0.69412342\n",
            " 0.75426698 0.75683378 0.76212465 0.76320673 0.77180676 0.71580908\n",
            " 0.73736262 0.72110624 0.7624455  0.77883399 0.86675936 0.86345649\n",
            " 0.8856014  0.88288991 0.87714607 0.88412298 0.88555107 0.88950193\n",
            " 0.89936019 0.90434279 0.89628381 0.88558882 0.86385284 0.86753946\n",
            " 0.88244324 0.83975137 0.84350091 0.87354124 0.87028241 0.83689518\n",
            " 0.85106289 0.89078533 0.83443534 0.85510811 0.8524847  0.89296836\n",
            " 0.8611728  0.86396608 0.88249357 0.88144294 0.84314231 0.84667795\n",
            " 0.84902455 0.85571836 0.85018213 0.85013809 0.84527502 0.85852422\n",
            " 0.85895202 0.86904934 0.91136374 0.96746837 0.96136594 0.98009474\n",
            " 0.98726668 1.         0.92082411 0.82441598]\n",
            "2 day output [[0.7284841]]\n",
            "3 day input [0.66654923 0.6778293  0.66386919 0.65832038 0.68118249 0.68132718\n",
            " 0.69572767 0.67520588 0.7009745  0.71960265 0.71763351 0.71884142\n",
            " 0.71460746 0.7110215  0.68996496 0.68354168 0.68803986 0.67385957\n",
            " 0.67940838 0.67696111 0.66646745 0.65747737 0.6627242  0.65370267\n",
            " 0.65874189 0.66247255 0.6875114  0.67731971 0.66378741 0.67409863\n",
            " 0.65742075 0.66617805 0.65537612 0.68775047 0.70252842 0.67639491\n",
            " 0.66452977 0.67070769 0.66043422 0.65835813 0.69412342 0.75426698\n",
            " 0.75683378 0.76212465 0.76320673 0.77180676 0.71580908 0.73736262\n",
            " 0.72110624 0.7624455  0.77883399 0.86675936 0.86345649 0.8856014\n",
            " 0.88288991 0.87714607 0.88412298 0.88555107 0.88950193 0.89936019\n",
            " 0.90434279 0.89628381 0.88558882 0.86385284 0.86753946 0.88244324\n",
            " 0.83975137 0.84350091 0.87354124 0.87028241 0.83689518 0.85106289\n",
            " 0.89078533 0.83443534 0.85510811 0.8524847  0.89296836 0.8611728\n",
            " 0.86396608 0.88249357 0.88144294 0.84314231 0.84667795 0.84902455\n",
            " 0.85571836 0.85018213 0.85013809 0.84527502 0.85852422 0.85895202\n",
            " 0.86904934 0.91136374 0.96746837 0.96136594 0.98009474 0.98726668\n",
            " 1.         0.92082411 0.82441598 0.72848409]\n",
            "3 day output [[0.6517541]]\n",
            "4 day input [0.6778293  0.66386919 0.65832038 0.68118249 0.68132718 0.69572767\n",
            " 0.67520588 0.7009745  0.71960265 0.71763351 0.71884142 0.71460746\n",
            " 0.7110215  0.68996496 0.68354168 0.68803986 0.67385957 0.67940838\n",
            " 0.67696111 0.66646745 0.65747737 0.6627242  0.65370267 0.65874189\n",
            " 0.66247255 0.6875114  0.67731971 0.66378741 0.67409863 0.65742075\n",
            " 0.66617805 0.65537612 0.68775047 0.70252842 0.67639491 0.66452977\n",
            " 0.67070769 0.66043422 0.65835813 0.69412342 0.75426698 0.75683378\n",
            " 0.76212465 0.76320673 0.77180676 0.71580908 0.73736262 0.72110624\n",
            " 0.7624455  0.77883399 0.86675936 0.86345649 0.8856014  0.88288991\n",
            " 0.87714607 0.88412298 0.88555107 0.88950193 0.89936019 0.90434279\n",
            " 0.89628381 0.88558882 0.86385284 0.86753946 0.88244324 0.83975137\n",
            " 0.84350091 0.87354124 0.87028241 0.83689518 0.85106289 0.89078533\n",
            " 0.83443534 0.85510811 0.8524847  0.89296836 0.8611728  0.86396608\n",
            " 0.88249357 0.88144294 0.84314231 0.84667795 0.84902455 0.85571836\n",
            " 0.85018213 0.85013809 0.84527502 0.85852422 0.85895202 0.86904934\n",
            " 0.91136374 0.96746837 0.96136594 0.98009474 0.98726668 1.\n",
            " 0.92082411 0.82441598 0.72848409 0.65175408]\n",
            "4 day output [[0.59544885]]\n",
            "5 day input [0.66386919 0.65832038 0.68118249 0.68132718 0.69572767 0.67520588\n",
            " 0.7009745  0.71960265 0.71763351 0.71884142 0.71460746 0.7110215\n",
            " 0.68996496 0.68354168 0.68803986 0.67385957 0.67940838 0.67696111\n",
            " 0.66646745 0.65747737 0.6627242  0.65370267 0.65874189 0.66247255\n",
            " 0.6875114  0.67731971 0.66378741 0.67409863 0.65742075 0.66617805\n",
            " 0.65537612 0.68775047 0.70252842 0.67639491 0.66452977 0.67070769\n",
            " 0.66043422 0.65835813 0.69412342 0.75426698 0.75683378 0.76212465\n",
            " 0.76320673 0.77180676 0.71580908 0.73736262 0.72110624 0.7624455\n",
            " 0.77883399 0.86675936 0.86345649 0.8856014  0.88288991 0.87714607\n",
            " 0.88412298 0.88555107 0.88950193 0.89936019 0.90434279 0.89628381\n",
            " 0.88558882 0.86385284 0.86753946 0.88244324 0.83975137 0.84350091\n",
            " 0.87354124 0.87028241 0.83689518 0.85106289 0.89078533 0.83443534\n",
            " 0.85510811 0.8524847  0.89296836 0.8611728  0.86396608 0.88249357\n",
            " 0.88144294 0.84314231 0.84667795 0.84902455 0.85571836 0.85018213\n",
            " 0.85013809 0.84527502 0.85852422 0.85895202 0.86904934 0.91136374\n",
            " 0.96746837 0.96136594 0.98009474 0.98726668 1.         0.92082411\n",
            " 0.82441598 0.72848409 0.65175408 0.59544885]\n",
            "5 day output [[0.5573577]]\n",
            "6 day input [0.65832038 0.68118249 0.68132718 0.69572767 0.67520588 0.7009745\n",
            " 0.71960265 0.71763351 0.71884142 0.71460746 0.7110215  0.68996496\n",
            " 0.68354168 0.68803986 0.67385957 0.67940838 0.67696111 0.66646745\n",
            " 0.65747737 0.6627242  0.65370267 0.65874189 0.66247255 0.6875114\n",
            " 0.67731971 0.66378741 0.67409863 0.65742075 0.66617805 0.65537612\n",
            " 0.68775047 0.70252842 0.67639491 0.66452977 0.67070769 0.66043422\n",
            " 0.65835813 0.69412342 0.75426698 0.75683378 0.76212465 0.76320673\n",
            " 0.77180676 0.71580908 0.73736262 0.72110624 0.7624455  0.77883399\n",
            " 0.86675936 0.86345649 0.8856014  0.88288991 0.87714607 0.88412298\n",
            " 0.88555107 0.88950193 0.89936019 0.90434279 0.89628381 0.88558882\n",
            " 0.86385284 0.86753946 0.88244324 0.83975137 0.84350091 0.87354124\n",
            " 0.87028241 0.83689518 0.85106289 0.89078533 0.83443534 0.85510811\n",
            " 0.8524847  0.89296836 0.8611728  0.86396608 0.88249357 0.88144294\n",
            " 0.84314231 0.84667795 0.84902455 0.85571836 0.85018213 0.85013809\n",
            " 0.84527502 0.85852422 0.85895202 0.86904934 0.91136374 0.96746837\n",
            " 0.96136594 0.98009474 0.98726668 1.         0.92082411 0.82441598\n",
            " 0.72848409 0.65175408 0.59544885 0.55735773]\n",
            "6 day output [[0.5335283]]\n",
            "7 day input [0.68118249 0.68132718 0.69572767 0.67520588 0.7009745  0.71960265\n",
            " 0.71763351 0.71884142 0.71460746 0.7110215  0.68996496 0.68354168\n",
            " 0.68803986 0.67385957 0.67940838 0.67696111 0.66646745 0.65747737\n",
            " 0.6627242  0.65370267 0.65874189 0.66247255 0.6875114  0.67731971\n",
            " 0.66378741 0.67409863 0.65742075 0.66617805 0.65537612 0.68775047\n",
            " 0.70252842 0.67639491 0.66452977 0.67070769 0.66043422 0.65835813\n",
            " 0.69412342 0.75426698 0.75683378 0.76212465 0.76320673 0.77180676\n",
            " 0.71580908 0.73736262 0.72110624 0.7624455  0.77883399 0.86675936\n",
            " 0.86345649 0.8856014  0.88288991 0.87714607 0.88412298 0.88555107\n",
            " 0.88950193 0.89936019 0.90434279 0.89628381 0.88558882 0.86385284\n",
            " 0.86753946 0.88244324 0.83975137 0.84350091 0.87354124 0.87028241\n",
            " 0.83689518 0.85106289 0.89078533 0.83443534 0.85510811 0.8524847\n",
            " 0.89296836 0.8611728  0.86396608 0.88249357 0.88144294 0.84314231\n",
            " 0.84667795 0.84902455 0.85571836 0.85018213 0.85013809 0.84527502\n",
            " 0.85852422 0.85895202 0.86904934 0.91136374 0.96746837 0.96136594\n",
            " 0.98009474 0.98726668 1.         0.92082411 0.82441598 0.72848409\n",
            " 0.65175408 0.59544885 0.55735773 0.53352833]\n",
            "7 day output [[0.51982504]]\n",
            "8 day input [0.68132718 0.69572767 0.67520588 0.7009745  0.71960265 0.71763351\n",
            " 0.71884142 0.71460746 0.7110215  0.68996496 0.68354168 0.68803986\n",
            " 0.67385957 0.67940838 0.67696111 0.66646745 0.65747737 0.6627242\n",
            " 0.65370267 0.65874189 0.66247255 0.6875114  0.67731971 0.66378741\n",
            " 0.67409863 0.65742075 0.66617805 0.65537612 0.68775047 0.70252842\n",
            " 0.67639491 0.66452977 0.67070769 0.66043422 0.65835813 0.69412342\n",
            " 0.75426698 0.75683378 0.76212465 0.76320673 0.77180676 0.71580908\n",
            " 0.73736262 0.72110624 0.7624455  0.77883399 0.86675936 0.86345649\n",
            " 0.8856014  0.88288991 0.87714607 0.88412298 0.88555107 0.88950193\n",
            " 0.89936019 0.90434279 0.89628381 0.88558882 0.86385284 0.86753946\n",
            " 0.88244324 0.83975137 0.84350091 0.87354124 0.87028241 0.83689518\n",
            " 0.85106289 0.89078533 0.83443534 0.85510811 0.8524847  0.89296836\n",
            " 0.8611728  0.86396608 0.88249357 0.88144294 0.84314231 0.84667795\n",
            " 0.84902455 0.85571836 0.85018213 0.85013809 0.84527502 0.85852422\n",
            " 0.85895202 0.86904934 0.91136374 0.96746837 0.96136594 0.98009474\n",
            " 0.98726668 1.         0.92082411 0.82441598 0.72848409 0.65175408\n",
            " 0.59544885 0.55735773 0.53352833 0.51982504]\n",
            "8 day output [[0.5127005]]\n",
            "9 day input [0.69572767 0.67520588 0.7009745  0.71960265 0.71763351 0.71884142\n",
            " 0.71460746 0.7110215  0.68996496 0.68354168 0.68803986 0.67385957\n",
            " 0.67940838 0.67696111 0.66646745 0.65747737 0.6627242  0.65370267\n",
            " 0.65874189 0.66247255 0.6875114  0.67731971 0.66378741 0.67409863\n",
            " 0.65742075 0.66617805 0.65537612 0.68775047 0.70252842 0.67639491\n",
            " 0.66452977 0.67070769 0.66043422 0.65835813 0.69412342 0.75426698\n",
            " 0.75683378 0.76212465 0.76320673 0.77180676 0.71580908 0.73736262\n",
            " 0.72110624 0.7624455  0.77883399 0.86675936 0.86345649 0.8856014\n",
            " 0.88288991 0.87714607 0.88412298 0.88555107 0.88950193 0.89936019\n",
            " 0.90434279 0.89628381 0.88558882 0.86385284 0.86753946 0.88244324\n",
            " 0.83975137 0.84350091 0.87354124 0.87028241 0.83689518 0.85106289\n",
            " 0.89078533 0.83443534 0.85510811 0.8524847  0.89296836 0.8611728\n",
            " 0.86396608 0.88249357 0.88144294 0.84314231 0.84667795 0.84902455\n",
            " 0.85571836 0.85018213 0.85013809 0.84527502 0.85852422 0.85895202\n",
            " 0.86904934 0.91136374 0.96746837 0.96136594 0.98009474 0.98726668\n",
            " 1.         0.92082411 0.82441598 0.72848409 0.65175408 0.59544885\n",
            " 0.55735773 0.53352833 0.51982504 0.5127005 ]\n",
            "9 day output [[0.50935686]]\n",
            "10 day input [0.67520588 0.7009745  0.71960265 0.71763351 0.71884142 0.71460746\n",
            " 0.7110215  0.68996496 0.68354168 0.68803986 0.67385957 0.67940838\n",
            " 0.67696111 0.66646745 0.65747737 0.6627242  0.65370267 0.65874189\n",
            " 0.66247255 0.6875114  0.67731971 0.66378741 0.67409863 0.65742075\n",
            " 0.66617805 0.65537612 0.68775047 0.70252842 0.67639491 0.66452977\n",
            " 0.67070769 0.66043422 0.65835813 0.69412342 0.75426698 0.75683378\n",
            " 0.76212465 0.76320673 0.77180676 0.71580908 0.73736262 0.72110624\n",
            " 0.7624455  0.77883399 0.86675936 0.86345649 0.8856014  0.88288991\n",
            " 0.87714607 0.88412298 0.88555107 0.88950193 0.89936019 0.90434279\n",
            " 0.89628381 0.88558882 0.86385284 0.86753946 0.88244324 0.83975137\n",
            " 0.84350091 0.87354124 0.87028241 0.83689518 0.85106289 0.89078533\n",
            " 0.83443534 0.85510811 0.8524847  0.89296836 0.8611728  0.86396608\n",
            " 0.88249357 0.88144294 0.84314231 0.84667795 0.84902455 0.85571836\n",
            " 0.85018213 0.85013809 0.84527502 0.85852422 0.85895202 0.86904934\n",
            " 0.91136374 0.96746837 0.96136594 0.98009474 0.98726668 1.\n",
            " 0.92082411 0.82441598 0.72848409 0.65175408 0.59544885 0.55735773\n",
            " 0.53352833 0.51982504 0.5127005  0.50935686]\n",
            "10 day output [[0.50771326]]\n",
            "11 day input [0.7009745  0.71960265 0.71763351 0.71884142 0.71460746 0.7110215\n",
            " 0.68996496 0.68354168 0.68803986 0.67385957 0.67940838 0.67696111\n",
            " 0.66646745 0.65747737 0.6627242  0.65370267 0.65874189 0.66247255\n",
            " 0.6875114  0.67731971 0.66378741 0.67409863 0.65742075 0.66617805\n",
            " 0.65537612 0.68775047 0.70252842 0.67639491 0.66452977 0.67070769\n",
            " 0.66043422 0.65835813 0.69412342 0.75426698 0.75683378 0.76212465\n",
            " 0.76320673 0.77180676 0.71580908 0.73736262 0.72110624 0.7624455\n",
            " 0.77883399 0.86675936 0.86345649 0.8856014  0.88288991 0.87714607\n",
            " 0.88412298 0.88555107 0.88950193 0.89936019 0.90434279 0.89628381\n",
            " 0.88558882 0.86385284 0.86753946 0.88244324 0.83975137 0.84350091\n",
            " 0.87354124 0.87028241 0.83689518 0.85106289 0.89078533 0.83443534\n",
            " 0.85510811 0.8524847  0.89296836 0.8611728  0.86396608 0.88249357\n",
            " 0.88144294 0.84314231 0.84667795 0.84902455 0.85571836 0.85018213\n",
            " 0.85013809 0.84527502 0.85852422 0.85895202 0.86904934 0.91136374\n",
            " 0.96746837 0.96136594 0.98009474 0.98726668 1.         0.92082411\n",
            " 0.82441598 0.72848409 0.65175408 0.59544885 0.55735773 0.53352833\n",
            " 0.51982504 0.5127005  0.50935686 0.50771326]\n",
            "11 day output [[0.50632983]]\n",
            "12 day input [0.71960265 0.71763351 0.71884142 0.71460746 0.7110215  0.68996496\n",
            " 0.68354168 0.68803986 0.67385957 0.67940838 0.67696111 0.66646745\n",
            " 0.65747737 0.6627242  0.65370267 0.65874189 0.66247255 0.6875114\n",
            " 0.67731971 0.66378741 0.67409863 0.65742075 0.66617805 0.65537612\n",
            " 0.68775047 0.70252842 0.67639491 0.66452977 0.67070769 0.66043422\n",
            " 0.65835813 0.69412342 0.75426698 0.75683378 0.76212465 0.76320673\n",
            " 0.77180676 0.71580908 0.73736262 0.72110624 0.7624455  0.77883399\n",
            " 0.86675936 0.86345649 0.8856014  0.88288991 0.87714607 0.88412298\n",
            " 0.88555107 0.88950193 0.89936019 0.90434279 0.89628381 0.88558882\n",
            " 0.86385284 0.86753946 0.88244324 0.83975137 0.84350091 0.87354124\n",
            " 0.87028241 0.83689518 0.85106289 0.89078533 0.83443534 0.85510811\n",
            " 0.8524847  0.89296836 0.8611728  0.86396608 0.88249357 0.88144294\n",
            " 0.84314231 0.84667795 0.84902455 0.85571836 0.85018213 0.85013809\n",
            " 0.84527502 0.85852422 0.85895202 0.86904934 0.91136374 0.96746837\n",
            " 0.96136594 0.98009474 0.98726668 1.         0.92082411 0.82441598\n",
            " 0.72848409 0.65175408 0.59544885 0.55735773 0.53352833 0.51982504\n",
            " 0.5127005  0.50935686 0.50771326 0.50632983]\n",
            "12 day output [[0.5043108]]\n",
            "13 day input [0.71763351 0.71884142 0.71460746 0.7110215  0.68996496 0.68354168\n",
            " 0.68803986 0.67385957 0.67940838 0.67696111 0.66646745 0.65747737\n",
            " 0.6627242  0.65370267 0.65874189 0.66247255 0.6875114  0.67731971\n",
            " 0.66378741 0.67409863 0.65742075 0.66617805 0.65537612 0.68775047\n",
            " 0.70252842 0.67639491 0.66452977 0.67070769 0.66043422 0.65835813\n",
            " 0.69412342 0.75426698 0.75683378 0.76212465 0.76320673 0.77180676\n",
            " 0.71580908 0.73736262 0.72110624 0.7624455  0.77883399 0.86675936\n",
            " 0.86345649 0.8856014  0.88288991 0.87714607 0.88412298 0.88555107\n",
            " 0.88950193 0.89936019 0.90434279 0.89628381 0.88558882 0.86385284\n",
            " 0.86753946 0.88244324 0.83975137 0.84350091 0.87354124 0.87028241\n",
            " 0.83689518 0.85106289 0.89078533 0.83443534 0.85510811 0.8524847\n",
            " 0.89296836 0.8611728  0.86396608 0.88249357 0.88144294 0.84314231\n",
            " 0.84667795 0.84902455 0.85571836 0.85018213 0.85013809 0.84527502\n",
            " 0.85852422 0.85895202 0.86904934 0.91136374 0.96746837 0.96136594\n",
            " 0.98009474 0.98726668 1.         0.92082411 0.82441598 0.72848409\n",
            " 0.65175408 0.59544885 0.55735773 0.53352833 0.51982504 0.5127005\n",
            " 0.50935686 0.50771326 0.50632983 0.50431079]\n",
            "13 day output [[0.50119424]]\n",
            "14 day input [0.71884142 0.71460746 0.7110215  0.68996496 0.68354168 0.68803986\n",
            " 0.67385957 0.67940838 0.67696111 0.66646745 0.65747737 0.6627242\n",
            " 0.65370267 0.65874189 0.66247255 0.6875114  0.67731971 0.66378741\n",
            " 0.67409863 0.65742075 0.66617805 0.65537612 0.68775047 0.70252842\n",
            " 0.67639491 0.66452977 0.67070769 0.66043422 0.65835813 0.69412342\n",
            " 0.75426698 0.75683378 0.76212465 0.76320673 0.77180676 0.71580908\n",
            " 0.73736262 0.72110624 0.7624455  0.77883399 0.86675936 0.86345649\n",
            " 0.8856014  0.88288991 0.87714607 0.88412298 0.88555107 0.88950193\n",
            " 0.89936019 0.90434279 0.89628381 0.88558882 0.86385284 0.86753946\n",
            " 0.88244324 0.83975137 0.84350091 0.87354124 0.87028241 0.83689518\n",
            " 0.85106289 0.89078533 0.83443534 0.85510811 0.8524847  0.89296836\n",
            " 0.8611728  0.86396608 0.88249357 0.88144294 0.84314231 0.84667795\n",
            " 0.84902455 0.85571836 0.85018213 0.85013809 0.84527502 0.85852422\n",
            " 0.85895202 0.86904934 0.91136374 0.96746837 0.96136594 0.98009474\n",
            " 0.98726668 1.         0.92082411 0.82441598 0.72848409 0.65175408\n",
            " 0.59544885 0.55735773 0.53352833 0.51982504 0.5127005  0.50935686\n",
            " 0.50771326 0.50632983 0.50431079 0.50119424]\n",
            "14 day output [[0.49683943]]\n",
            "15 day input [0.71460746 0.7110215  0.68996496 0.68354168 0.68803986 0.67385957\n",
            " 0.67940838 0.67696111 0.66646745 0.65747737 0.6627242  0.65370267\n",
            " 0.65874189 0.66247255 0.6875114  0.67731971 0.66378741 0.67409863\n",
            " 0.65742075 0.66617805 0.65537612 0.68775047 0.70252842 0.67639491\n",
            " 0.66452977 0.67070769 0.66043422 0.65835813 0.69412342 0.75426698\n",
            " 0.75683378 0.76212465 0.76320673 0.77180676 0.71580908 0.73736262\n",
            " 0.72110624 0.7624455  0.77883399 0.86675936 0.86345649 0.8856014\n",
            " 0.88288991 0.87714607 0.88412298 0.88555107 0.88950193 0.89936019\n",
            " 0.90434279 0.89628381 0.88558882 0.86385284 0.86753946 0.88244324\n",
            " 0.83975137 0.84350091 0.87354124 0.87028241 0.83689518 0.85106289\n",
            " 0.89078533 0.83443534 0.85510811 0.8524847  0.89296836 0.8611728\n",
            " 0.86396608 0.88249357 0.88144294 0.84314231 0.84667795 0.84902455\n",
            " 0.85571836 0.85018213 0.85013809 0.84527502 0.85852422 0.85895202\n",
            " 0.86904934 0.91136374 0.96746837 0.96136594 0.98009474 0.98726668\n",
            " 1.         0.92082411 0.82441598 0.72848409 0.65175408 0.59544885\n",
            " 0.55735773 0.53352833 0.51982504 0.5127005  0.50935686 0.50771326\n",
            " 0.50632983 0.50431079 0.50119424 0.49683943]\n",
            "15 day output [[0.49131948]]\n",
            "16 day input [0.7110215  0.68996496 0.68354168 0.68803986 0.67385957 0.67940838\n",
            " 0.67696111 0.66646745 0.65747737 0.6627242  0.65370267 0.65874189\n",
            " 0.66247255 0.6875114  0.67731971 0.66378741 0.67409863 0.65742075\n",
            " 0.66617805 0.65537612 0.68775047 0.70252842 0.67639491 0.66452977\n",
            " 0.67070769 0.66043422 0.65835813 0.69412342 0.75426698 0.75683378\n",
            " 0.76212465 0.76320673 0.77180676 0.71580908 0.73736262 0.72110624\n",
            " 0.7624455  0.77883399 0.86675936 0.86345649 0.8856014  0.88288991\n",
            " 0.87714607 0.88412298 0.88555107 0.88950193 0.89936019 0.90434279\n",
            " 0.89628381 0.88558882 0.86385284 0.86753946 0.88244324 0.83975137\n",
            " 0.84350091 0.87354124 0.87028241 0.83689518 0.85106289 0.89078533\n",
            " 0.83443534 0.85510811 0.8524847  0.89296836 0.8611728  0.86396608\n",
            " 0.88249357 0.88144294 0.84314231 0.84667795 0.84902455 0.85571836\n",
            " 0.85018213 0.85013809 0.84527502 0.85852422 0.85895202 0.86904934\n",
            " 0.91136374 0.96746837 0.96136594 0.98009474 0.98726668 1.\n",
            " 0.92082411 0.82441598 0.72848409 0.65175408 0.59544885 0.55735773\n",
            " 0.53352833 0.51982504 0.5127005  0.50935686 0.50771326 0.50632983\n",
            " 0.50431079 0.50119424 0.49683943 0.49131948]\n",
            "16 day output [[0.48482975]]\n",
            "17 day input [0.68996496 0.68354168 0.68803986 0.67385957 0.67940838 0.67696111\n",
            " 0.66646745 0.65747737 0.6627242  0.65370267 0.65874189 0.66247255\n",
            " 0.6875114  0.67731971 0.66378741 0.67409863 0.65742075 0.66617805\n",
            " 0.65537612 0.68775047 0.70252842 0.67639491 0.66452977 0.67070769\n",
            " 0.66043422 0.65835813 0.69412342 0.75426698 0.75683378 0.76212465\n",
            " 0.76320673 0.77180676 0.71580908 0.73736262 0.72110624 0.7624455\n",
            " 0.77883399 0.86675936 0.86345649 0.8856014  0.88288991 0.87714607\n",
            " 0.88412298 0.88555107 0.88950193 0.89936019 0.90434279 0.89628381\n",
            " 0.88558882 0.86385284 0.86753946 0.88244324 0.83975137 0.84350091\n",
            " 0.87354124 0.87028241 0.83689518 0.85106289 0.89078533 0.83443534\n",
            " 0.85510811 0.8524847  0.89296836 0.8611728  0.86396608 0.88249357\n",
            " 0.88144294 0.84314231 0.84667795 0.84902455 0.85571836 0.85018213\n",
            " 0.85013809 0.84527502 0.85852422 0.85895202 0.86904934 0.91136374\n",
            " 0.96746837 0.96136594 0.98009474 0.98726668 1.         0.92082411\n",
            " 0.82441598 0.72848409 0.65175408 0.59544885 0.55735773 0.53352833\n",
            " 0.51982504 0.5127005  0.50935686 0.50771326 0.50632983 0.50431079\n",
            " 0.50119424 0.49683943 0.49131948 0.48482975]\n",
            "17 day output [[0.47761497]]\n",
            "18 day input [0.68354168 0.68803986 0.67385957 0.67940838 0.67696111 0.66646745\n",
            " 0.65747737 0.6627242  0.65370267 0.65874189 0.66247255 0.6875114\n",
            " 0.67731971 0.66378741 0.67409863 0.65742075 0.66617805 0.65537612\n",
            " 0.68775047 0.70252842 0.67639491 0.66452977 0.67070769 0.66043422\n",
            " 0.65835813 0.69412342 0.75426698 0.75683378 0.76212465 0.76320673\n",
            " 0.77180676 0.71580908 0.73736262 0.72110624 0.7624455  0.77883399\n",
            " 0.86675936 0.86345649 0.8856014  0.88288991 0.87714607 0.88412298\n",
            " 0.88555107 0.88950193 0.89936019 0.90434279 0.89628381 0.88558882\n",
            " 0.86385284 0.86753946 0.88244324 0.83975137 0.84350091 0.87354124\n",
            " 0.87028241 0.83689518 0.85106289 0.89078533 0.83443534 0.85510811\n",
            " 0.8524847  0.89296836 0.8611728  0.86396608 0.88249357 0.88144294\n",
            " 0.84314231 0.84667795 0.84902455 0.85571836 0.85018213 0.85013809\n",
            " 0.84527502 0.85852422 0.85895202 0.86904934 0.91136374 0.96746837\n",
            " 0.96136594 0.98009474 0.98726668 1.         0.92082411 0.82441598\n",
            " 0.72848409 0.65175408 0.59544885 0.55735773 0.53352833 0.51982504\n",
            " 0.5127005  0.50935686 0.50771326 0.50632983 0.50431079 0.50119424\n",
            " 0.49683943 0.49131948 0.48482975 0.47761497]\n",
            "18 day output [[0.4699188]]\n",
            "19 day input [0.68803986 0.67385957 0.67940838 0.67696111 0.66646745 0.65747737\n",
            " 0.6627242  0.65370267 0.65874189 0.66247255 0.6875114  0.67731971\n",
            " 0.66378741 0.67409863 0.65742075 0.66617805 0.65537612 0.68775047\n",
            " 0.70252842 0.67639491 0.66452977 0.67070769 0.66043422 0.65835813\n",
            " 0.69412342 0.75426698 0.75683378 0.76212465 0.76320673 0.77180676\n",
            " 0.71580908 0.73736262 0.72110624 0.7624455  0.77883399 0.86675936\n",
            " 0.86345649 0.8856014  0.88288991 0.87714607 0.88412298 0.88555107\n",
            " 0.88950193 0.89936019 0.90434279 0.89628381 0.88558882 0.86385284\n",
            " 0.86753946 0.88244324 0.83975137 0.84350091 0.87354124 0.87028241\n",
            " 0.83689518 0.85106289 0.89078533 0.83443534 0.85510811 0.8524847\n",
            " 0.89296836 0.8611728  0.86396608 0.88249357 0.88144294 0.84314231\n",
            " 0.84667795 0.84902455 0.85571836 0.85018213 0.85013809 0.84527502\n",
            " 0.85852422 0.85895202 0.86904934 0.91136374 0.96746837 0.96136594\n",
            " 0.98009474 0.98726668 1.         0.92082411 0.82441598 0.72848409\n",
            " 0.65175408 0.59544885 0.55735773 0.53352833 0.51982504 0.5127005\n",
            " 0.50935686 0.50771326 0.50632983 0.50431079 0.50119424 0.49683943\n",
            " 0.49131948 0.48482975 0.47761497 0.46991879]\n",
            "19 day output [[0.4619528]]\n",
            "20 day input [0.67385957 0.67940838 0.67696111 0.66646745 0.65747737 0.6627242\n",
            " 0.65370267 0.65874189 0.66247255 0.6875114  0.67731971 0.66378741\n",
            " 0.67409863 0.65742075 0.66617805 0.65537612 0.68775047 0.70252842\n",
            " 0.67639491 0.66452977 0.67070769 0.66043422 0.65835813 0.69412342\n",
            " 0.75426698 0.75683378 0.76212465 0.76320673 0.77180676 0.71580908\n",
            " 0.73736262 0.72110624 0.7624455  0.77883399 0.86675936 0.86345649\n",
            " 0.8856014  0.88288991 0.87714607 0.88412298 0.88555107 0.88950193\n",
            " 0.89936019 0.90434279 0.89628381 0.88558882 0.86385284 0.86753946\n",
            " 0.88244324 0.83975137 0.84350091 0.87354124 0.87028241 0.83689518\n",
            " 0.85106289 0.89078533 0.83443534 0.85510811 0.8524847  0.89296836\n",
            " 0.8611728  0.86396608 0.88249357 0.88144294 0.84314231 0.84667795\n",
            " 0.84902455 0.85571836 0.85018213 0.85013809 0.84527502 0.85852422\n",
            " 0.85895202 0.86904934 0.91136374 0.96746837 0.96136594 0.98009474\n",
            " 0.98726668 1.         0.92082411 0.82441598 0.72848409 0.65175408\n",
            " 0.59544885 0.55735773 0.53352833 0.51982504 0.5127005  0.50935686\n",
            " 0.50771326 0.50632983 0.50431079 0.50119424 0.49683943 0.49131948\n",
            " 0.48482975 0.47761497 0.46991879 0.46195281]\n",
            "20 day output [[0.45388412]]\n",
            "21 day input [0.67940838 0.67696111 0.66646745 0.65747737 0.6627242  0.65370267\n",
            " 0.65874189 0.66247255 0.6875114  0.67731971 0.66378741 0.67409863\n",
            " 0.65742075 0.66617805 0.65537612 0.68775047 0.70252842 0.67639491\n",
            " 0.66452977 0.67070769 0.66043422 0.65835813 0.69412342 0.75426698\n",
            " 0.75683378 0.76212465 0.76320673 0.77180676 0.71580908 0.73736262\n",
            " 0.72110624 0.7624455  0.77883399 0.86675936 0.86345649 0.8856014\n",
            " 0.88288991 0.87714607 0.88412298 0.88555107 0.88950193 0.89936019\n",
            " 0.90434279 0.89628381 0.88558882 0.86385284 0.86753946 0.88244324\n",
            " 0.83975137 0.84350091 0.87354124 0.87028241 0.83689518 0.85106289\n",
            " 0.89078533 0.83443534 0.85510811 0.8524847  0.89296836 0.8611728\n",
            " 0.86396608 0.88249357 0.88144294 0.84314231 0.84667795 0.84902455\n",
            " 0.85571836 0.85018213 0.85013809 0.84527502 0.85852422 0.85895202\n",
            " 0.86904934 0.91136374 0.96746837 0.96136594 0.98009474 0.98726668\n",
            " 1.         0.92082411 0.82441598 0.72848409 0.65175408 0.59544885\n",
            " 0.55735773 0.53352833 0.51982504 0.5127005  0.50935686 0.50771326\n",
            " 0.50632983 0.50431079 0.50119424 0.49683943 0.49131948 0.48482975\n",
            " 0.47761497 0.46991879 0.46195281 0.45388412]\n",
            "21 day output [[0.44583443]]\n",
            "22 day input [0.67696111 0.66646745 0.65747737 0.6627242  0.65370267 0.65874189\n",
            " 0.66247255 0.6875114  0.67731971 0.66378741 0.67409863 0.65742075\n",
            " 0.66617805 0.65537612 0.68775047 0.70252842 0.67639491 0.66452977\n",
            " 0.67070769 0.66043422 0.65835813 0.69412342 0.75426698 0.75683378\n",
            " 0.76212465 0.76320673 0.77180676 0.71580908 0.73736262 0.72110624\n",
            " 0.7624455  0.77883399 0.86675936 0.86345649 0.8856014  0.88288991\n",
            " 0.87714607 0.88412298 0.88555107 0.88950193 0.89936019 0.90434279\n",
            " 0.89628381 0.88558882 0.86385284 0.86753946 0.88244324 0.83975137\n",
            " 0.84350091 0.87354124 0.87028241 0.83689518 0.85106289 0.89078533\n",
            " 0.83443534 0.85510811 0.8524847  0.89296836 0.8611728  0.86396608\n",
            " 0.88249357 0.88144294 0.84314231 0.84667795 0.84902455 0.85571836\n",
            " 0.85018213 0.85013809 0.84527502 0.85852422 0.85895202 0.86904934\n",
            " 0.91136374 0.96746837 0.96136594 0.98009474 0.98726668 1.\n",
            " 0.92082411 0.82441598 0.72848409 0.65175408 0.59544885 0.55735773\n",
            " 0.53352833 0.51982504 0.5127005  0.50935686 0.50771326 0.50632983\n",
            " 0.50431079 0.50119424 0.49683943 0.49131948 0.48482975 0.47761497\n",
            " 0.46991879 0.46195281 0.45388412 0.44583443]\n",
            "22 day output [[0.4378864]]\n",
            "23 day input [0.66646745 0.65747737 0.6627242  0.65370267 0.65874189 0.66247255\n",
            " 0.6875114  0.67731971 0.66378741 0.67409863 0.65742075 0.66617805\n",
            " 0.65537612 0.68775047 0.70252842 0.67639491 0.66452977 0.67070769\n",
            " 0.66043422 0.65835813 0.69412342 0.75426698 0.75683378 0.76212465\n",
            " 0.76320673 0.77180676 0.71580908 0.73736262 0.72110624 0.7624455\n",
            " 0.77883399 0.86675936 0.86345649 0.8856014  0.88288991 0.87714607\n",
            " 0.88412298 0.88555107 0.88950193 0.89936019 0.90434279 0.89628381\n",
            " 0.88558882 0.86385284 0.86753946 0.88244324 0.83975137 0.84350091\n",
            " 0.87354124 0.87028241 0.83689518 0.85106289 0.89078533 0.83443534\n",
            " 0.85510811 0.8524847  0.89296836 0.8611728  0.86396608 0.88249357\n",
            " 0.88144294 0.84314231 0.84667795 0.84902455 0.85571836 0.85018213\n",
            " 0.85013809 0.84527502 0.85852422 0.85895202 0.86904934 0.91136374\n",
            " 0.96746837 0.96136594 0.98009474 0.98726668 1.         0.92082411\n",
            " 0.82441598 0.72848409 0.65175408 0.59544885 0.55735773 0.53352833\n",
            " 0.51982504 0.5127005  0.50935686 0.50771326 0.50632983 0.50431079\n",
            " 0.50119424 0.49683943 0.49131948 0.48482975 0.47761497 0.46991879\n",
            " 0.46195281 0.45388412 0.44583443 0.43788639]\n",
            "23 day output [[0.43009308]]\n",
            "24 day input [0.65747737 0.6627242  0.65370267 0.65874189 0.66247255 0.6875114\n",
            " 0.67731971 0.66378741 0.67409863 0.65742075 0.66617805 0.65537612\n",
            " 0.68775047 0.70252842 0.67639491 0.66452977 0.67070769 0.66043422\n",
            " 0.65835813 0.69412342 0.75426698 0.75683378 0.76212465 0.76320673\n",
            " 0.77180676 0.71580908 0.73736262 0.72110624 0.7624455  0.77883399\n",
            " 0.86675936 0.86345649 0.8856014  0.88288991 0.87714607 0.88412298\n",
            " 0.88555107 0.88950193 0.89936019 0.90434279 0.89628381 0.88558882\n",
            " 0.86385284 0.86753946 0.88244324 0.83975137 0.84350091 0.87354124\n",
            " 0.87028241 0.83689518 0.85106289 0.89078533 0.83443534 0.85510811\n",
            " 0.8524847  0.89296836 0.8611728  0.86396608 0.88249357 0.88144294\n",
            " 0.84314231 0.84667795 0.84902455 0.85571836 0.85018213 0.85013809\n",
            " 0.84527502 0.85852422 0.85895202 0.86904934 0.91136374 0.96746837\n",
            " 0.96136594 0.98009474 0.98726668 1.         0.92082411 0.82441598\n",
            " 0.72848409 0.65175408 0.59544885 0.55735773 0.53352833 0.51982504\n",
            " 0.5127005  0.50935686 0.50771326 0.50632983 0.50431079 0.50119424\n",
            " 0.49683943 0.49131948 0.48482975 0.47761497 0.46991879 0.46195281\n",
            " 0.45388412 0.44583443 0.43788639 0.43009308]\n",
            "24 day output [[0.42248735]]\n",
            "25 day input [0.6627242  0.65370267 0.65874189 0.66247255 0.6875114  0.67731971\n",
            " 0.66378741 0.67409863 0.65742075 0.66617805 0.65537612 0.68775047\n",
            " 0.70252842 0.67639491 0.66452977 0.67070769 0.66043422 0.65835813\n",
            " 0.69412342 0.75426698 0.75683378 0.76212465 0.76320673 0.77180676\n",
            " 0.71580908 0.73736262 0.72110624 0.7624455  0.77883399 0.86675936\n",
            " 0.86345649 0.8856014  0.88288991 0.87714607 0.88412298 0.88555107\n",
            " 0.88950193 0.89936019 0.90434279 0.89628381 0.88558882 0.86385284\n",
            " 0.86753946 0.88244324 0.83975137 0.84350091 0.87354124 0.87028241\n",
            " 0.83689518 0.85106289 0.89078533 0.83443534 0.85510811 0.8524847\n",
            " 0.89296836 0.8611728  0.86396608 0.88249357 0.88144294 0.84314231\n",
            " 0.84667795 0.84902455 0.85571836 0.85018213 0.85013809 0.84527502\n",
            " 0.85852422 0.85895202 0.86904934 0.91136374 0.96746837 0.96136594\n",
            " 0.98009474 0.98726668 1.         0.92082411 0.82441598 0.72848409\n",
            " 0.65175408 0.59544885 0.55735773 0.53352833 0.51982504 0.5127005\n",
            " 0.50935686 0.50771326 0.50632983 0.50431079 0.50119424 0.49683943\n",
            " 0.49131948 0.48482975 0.47761497 0.46991879 0.46195281 0.45388412\n",
            " 0.44583443 0.43788639 0.43009308 0.42248735]\n",
            "25 day output [[0.41508996]]\n",
            "26 day input [0.65370267 0.65874189 0.66247255 0.6875114  0.67731971 0.66378741\n",
            " 0.67409863 0.65742075 0.66617805 0.65537612 0.68775047 0.70252842\n",
            " 0.67639491 0.66452977 0.67070769 0.66043422 0.65835813 0.69412342\n",
            " 0.75426698 0.75683378 0.76212465 0.76320673 0.77180676 0.71580908\n",
            " 0.73736262 0.72110624 0.7624455  0.77883399 0.86675936 0.86345649\n",
            " 0.8856014  0.88288991 0.87714607 0.88412298 0.88555107 0.88950193\n",
            " 0.89936019 0.90434279 0.89628381 0.88558882 0.86385284 0.86753946\n",
            " 0.88244324 0.83975137 0.84350091 0.87354124 0.87028241 0.83689518\n",
            " 0.85106289 0.89078533 0.83443534 0.85510811 0.8524847  0.89296836\n",
            " 0.8611728  0.86396608 0.88249357 0.88144294 0.84314231 0.84667795\n",
            " 0.84902455 0.85571836 0.85018213 0.85013809 0.84527502 0.85852422\n",
            " 0.85895202 0.86904934 0.91136374 0.96746837 0.96136594 0.98009474\n",
            " 0.98726668 1.         0.92082411 0.82441598 0.72848409 0.65175408\n",
            " 0.59544885 0.55735773 0.53352833 0.51982504 0.5127005  0.50935686\n",
            " 0.50771326 0.50632983 0.50431079 0.50119424 0.49683943 0.49131948\n",
            " 0.48482975 0.47761497 0.46991879 0.46195281 0.45388412 0.44583443\n",
            " 0.43788639 0.43009308 0.42248735 0.41508996]\n",
            "26 day output [[0.4079153]]\n",
            "27 day input [0.65874189 0.66247255 0.6875114  0.67731971 0.66378741 0.67409863\n",
            " 0.65742075 0.66617805 0.65537612 0.68775047 0.70252842 0.67639491\n",
            " 0.66452977 0.67070769 0.66043422 0.65835813 0.69412342 0.75426698\n",
            " 0.75683378 0.76212465 0.76320673 0.77180676 0.71580908 0.73736262\n",
            " 0.72110624 0.7624455  0.77883399 0.86675936 0.86345649 0.8856014\n",
            " 0.88288991 0.87714607 0.88412298 0.88555107 0.88950193 0.89936019\n",
            " 0.90434279 0.89628381 0.88558882 0.86385284 0.86753946 0.88244324\n",
            " 0.83975137 0.84350091 0.87354124 0.87028241 0.83689518 0.85106289\n",
            " 0.89078533 0.83443534 0.85510811 0.8524847  0.89296836 0.8611728\n",
            " 0.86396608 0.88249357 0.88144294 0.84314231 0.84667795 0.84902455\n",
            " 0.85571836 0.85018213 0.85013809 0.84527502 0.85852422 0.85895202\n",
            " 0.86904934 0.91136374 0.96746837 0.96136594 0.98009474 0.98726668\n",
            " 1.         0.92082411 0.82441598 0.72848409 0.65175408 0.59544885\n",
            " 0.55735773 0.53352833 0.51982504 0.5127005  0.50935686 0.50771326\n",
            " 0.50632983 0.50431079 0.50119424 0.49683943 0.49131948 0.48482975\n",
            " 0.47761497 0.46991879 0.46195281 0.45388412 0.44583443 0.43788639\n",
            " 0.43009308 0.42248735 0.41508996 0.40791529]\n",
            "27 day output [[0.40097427]]\n",
            "28 day input [0.66247255 0.6875114  0.67731971 0.66378741 0.67409863 0.65742075\n",
            " 0.66617805 0.65537612 0.68775047 0.70252842 0.67639491 0.66452977\n",
            " 0.67070769 0.66043422 0.65835813 0.69412342 0.75426698 0.75683378\n",
            " 0.76212465 0.76320673 0.77180676 0.71580908 0.73736262 0.72110624\n",
            " 0.7624455  0.77883399 0.86675936 0.86345649 0.8856014  0.88288991\n",
            " 0.87714607 0.88412298 0.88555107 0.88950193 0.89936019 0.90434279\n",
            " 0.89628381 0.88558882 0.86385284 0.86753946 0.88244324 0.83975137\n",
            " 0.84350091 0.87354124 0.87028241 0.83689518 0.85106289 0.89078533\n",
            " 0.83443534 0.85510811 0.8524847  0.89296836 0.8611728  0.86396608\n",
            " 0.88249357 0.88144294 0.84314231 0.84667795 0.84902455 0.85571836\n",
            " 0.85018213 0.85013809 0.84527502 0.85852422 0.85895202 0.86904934\n",
            " 0.91136374 0.96746837 0.96136594 0.98009474 0.98726668 1.\n",
            " 0.92082411 0.82441598 0.72848409 0.65175408 0.59544885 0.55735773\n",
            " 0.53352833 0.51982504 0.5127005  0.50935686 0.50771326 0.50632983\n",
            " 0.50431079 0.50119424 0.49683943 0.49131948 0.48482975 0.47761497\n",
            " 0.46991879 0.46195281 0.45388412 0.44583443 0.43788639 0.43009308\n",
            " 0.42248735 0.41508996 0.40791529 0.40097427]\n",
            "28 day output [[0.39427596]]\n",
            "29 day input [0.6875114  0.67731971 0.66378741 0.67409863 0.65742075 0.66617805\n",
            " 0.65537612 0.68775047 0.70252842 0.67639491 0.66452977 0.67070769\n",
            " 0.66043422 0.65835813 0.69412342 0.75426698 0.75683378 0.76212465\n",
            " 0.76320673 0.77180676 0.71580908 0.73736262 0.72110624 0.7624455\n",
            " 0.77883399 0.86675936 0.86345649 0.8856014  0.88288991 0.87714607\n",
            " 0.88412298 0.88555107 0.88950193 0.89936019 0.90434279 0.89628381\n",
            " 0.88558882 0.86385284 0.86753946 0.88244324 0.83975137 0.84350091\n",
            " 0.87354124 0.87028241 0.83689518 0.85106289 0.89078533 0.83443534\n",
            " 0.85510811 0.8524847  0.89296836 0.8611728  0.86396608 0.88249357\n",
            " 0.88144294 0.84314231 0.84667795 0.84902455 0.85571836 0.85018213\n",
            " 0.85013809 0.84527502 0.85852422 0.85895202 0.86904934 0.91136374\n",
            " 0.96746837 0.96136594 0.98009474 0.98726668 1.         0.92082411\n",
            " 0.82441598 0.72848409 0.65175408 0.59544885 0.55735773 0.53352833\n",
            " 0.51982504 0.5127005  0.50935686 0.50771326 0.50632983 0.50431079\n",
            " 0.50119424 0.49683943 0.49131948 0.48482975 0.47761497 0.46991879\n",
            " 0.46195281 0.45388412 0.44583443 0.43788639 0.43009308 0.42248735\n",
            " 0.41508996 0.40791529 0.40097427 0.39427596]\n",
            "29 day output [[0.38782814]]\n",
            "[[0.9208241105079651], [0.8244159817695618], [0.7284840941429138], [0.6517540812492371], [0.5954488515853882], [0.5573577284812927], [0.5335283279418945], [0.5198250412940979], [0.5127004981040955], [0.5093568563461304], [0.507713258266449], [0.5063298344612122], [0.5043107867240906], [0.5011942386627197], [0.4968394339084625], [0.491319477558136], [0.48482975363731384], [0.47761496901512146], [0.46991878747940063], [0.461952805519104], [0.4538841247558594], [0.4458344280719757], [0.43788638710975647], [0.43009307980537415], [0.4224873483181], [0.4150899648666382], [0.40791529417037964], [0.4009742736816406], [0.394275963306427], [0.38782814145088196]]\n"
          ],
          "name": "stdout"
        }
      ]
    },
    {
      "cell_type": "code",
      "metadata": {
        "id": "bx2psSaNhdEW"
      },
      "source": [
        "day_new=np.arange(1,101)\n",
        "day_pred=np.arange(101,131)"
      ],
      "execution_count": null,
      "outputs": []
    },
    {
      "cell_type": "code",
      "metadata": {
        "colab": {
          "base_uri": "https://localhost:8080/",
          "height": 283
        },
        "id": "WUvZuw-ZhdEW",
        "outputId": "9ea9bf71-8255-484b-aaad-25bf6f4deda5"
      },
      "source": [
        "\n",
        "plt.plot(day_new,scaler.inverse_transform(df_close[1159:]))\n",
        "plt.plot(day_pred,scaler.inverse_transform(lst_output))"
      ],
      "execution_count": null,
      "outputs": [
        {
          "output_type": "execute_result",
          "data": {
            "text/plain": [
              "[<matplotlib.lines.Line2D at 0x7fdea4211390>]"
            ]
          },
          "metadata": {
            "tags": []
          },
          "execution_count": 31
        },
        {
          "output_type": "display_data",
          "data": {
            "image/png": "[encoded data removed]",
            "text/plain": [
              "<Figure size 432x288 with 1 Axes>"
            ]
          },
          "metadata": {
            "tags": [],
            "needs_background": "light"
          }
        }
      ]
    },
    {
      "cell_type": "code",
      "metadata": {
        "colab": {
          "base_uri": "https://localhost:8080/",
          "height": 283
        },
        "id": "CbmyqWc-hdEY",
        "outputId": "d15aee29-fe4e-4a20-e8af-aed579416e3e"
      },
      "source": [
        "\n",
        "df3=df_close.tolist()\n",
        "df3.extend(lst_output)\n",
        "plt.plot(df3[1200:])"
      ],
      "execution_count": null,
      "outputs": [
        {
          "output_type": "execute_result",
          "data": {
            "text/plain": [
              "[<matplotlib.lines.Line2D at 0x7fdea42186d0>]"
            ]
          },
          "metadata": {
            "tags": []
          },
          "execution_count": 32
        },
        {
          "output_type": "display_data",
          "data": {
            "image/png": "[encoded data removed]",
            "text/plain": [
              "<Figure size 432x288 with 1 Axes>"
            ]
          },
          "metadata": {
            "tags": [],
            "needs_background": "light"
          }
        }
      ]
    },
    {
      "cell_type": "code",
      "metadata": {
        "id": "LULHHVwFhdEZ"
      },
      "source": [
        "\n",
        "df3=scaler.inverse_transform(df3).tolist()"
      ],
      "execution_count": null,
      "outputs": []
    },
    {
      "cell_type": "code",
      "metadata": {
        "colab": {
          "base_uri": "https://localhost:8080/",
          "height": 283
        },
        "id": "xRl2uPufhdEa",
        "outputId": "0e4128c4-52ce-42c9-8d9d-1e8b4adb6d92"
      },
      "source": [
        "plt.plot(df3)"
      ],
      "execution_count": null,
      "outputs": [
        {
          "output_type": "execute_result",
          "data": {
            "text/plain": [
              "[<matplotlib.lines.Line2D at 0x7fde99763890>]"
            ]
          },
          "metadata": {
            "tags": []
          },
          "execution_count": 34
        },
        {
          "output_type": "display_data",
          "data": {
            "image/png": "[encoded data removed]",
            "text/plain": [
              "<Figure size 432x288 with 1 Axes>"
            ]
          },
          "metadata": {
            "tags": [],
            "needs_background": "light"
          }
        }
      ]
    },
    {
      "cell_type": "code",
      "metadata": {
        "colab": {
          "base_uri": "https://localhost:8080/",
          "height": 283
        },
        "id": "dTUQgAOPhdEb",
        "outputId": "4aa2f398-62ea-491f-b861-9eb332eb6af2"
      },
      "source": [
        "plt.plot(df3[len(df3)-100:])"
      ],
      "execution_count": null,
      "outputs": [
        {
          "output_type": "execute_result",
          "data": {
            "text/plain": [
              "[<matplotlib.lines.Line2D at 0x7fde9965cdd0>]"
            ]
          },
          "metadata": {
            "tags": []
          },
          "execution_count": 35
        },
        {
          "output_type": "display_data",
          "data": {
            "image/png": "[encoded data removed]",
            "text/plain": [
              "<Figure size 432x288 with 1 Axes>"
            ]
          },
          "metadata": {
            "tags": [],
            "needs_background": "light"
          }
        }
      ]
    },
    {
      "cell_type": "code",
      "metadata": {
        "id": "vqdYT-BehdEc"
      },
      "source": [
        ""
      ],
      "execution_count": null,
      "outputs": []
    }
  ]
}